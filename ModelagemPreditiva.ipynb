{
 "cells": [
  {
   "cell_type": "markdown",
   "metadata": {},
   "source": [
    "# Datathon - GRUPO 05"
   ]
  },
  {
   "cell_type": "markdown",
   "metadata": {},
   "source": [
    "## Modelagem Preditiva"
   ]
  },
  {
   "cell_type": "markdown",
   "metadata": {},
   "source": [
    "## Carregando os Dados e Compreendendo as Variáveis"
   ]
  },
  {
   "cell_type": "code",
   "execution_count": 2,
   "metadata": {},
   "outputs": [],
   "source": [
    "# Imports para carga e manipulação de dados\n",
    "import warnings\n",
    "warnings.simplefilter(action='ignore', category=FutureWarning)\n",
    "warnings.filterwarnings(\"ignore\", category=FutureWarning)\n",
    "import numpy as np\n",
    "import pandas as pd\n",
    "import matplotlib.pyplot as plt\n",
    "import seaborn as sns\n",
    "%matplotlib inline\n",
    "plt.rcParams['figure.figsize'] = (16.0, 4.0)"
   ]
  },
  {
   "cell_type": "code",
   "execution_count": 3,
   "metadata": {},
   "outputs": [
    {
     "data": {
      "text/plain": [
       "'1.19.5'"
      ]
     },
     "execution_count": 3,
     "metadata": {},
     "output_type": "execute_result"
    }
   ],
   "source": [
    "np.__version__"
   ]
  },
  {
   "cell_type": "code",
   "execution_count": 4,
   "metadata": {},
   "outputs": [
    {
     "data": {
      "text/plain": [
       "'1.0.5'"
      ]
     },
     "execution_count": 4,
     "metadata": {},
     "output_type": "execute_result"
    }
   ],
   "source": [
    "pd.__version__"
   ]
  },
  {
   "cell_type": "code",
   "execution_count": 5,
   "metadata": {},
   "outputs": [
    {
     "data": {
      "text/plain": [
       "'0.10.1'"
      ]
     },
     "execution_count": 5,
     "metadata": {},
     "output_type": "execute_result"
    }
   ],
   "source": [
    "sns.__version__"
   ]
  },
  {
   "cell_type": "code",
   "execution_count": 6,
   "metadata": {},
   "outputs": [
    {
     "data": {
      "text/plain": [
       "'3.2.2'"
      ]
     },
     "execution_count": 6,
     "metadata": {},
     "output_type": "execute_result"
    }
   ],
   "source": [
    "import matplotlib\n",
    "matplotlib.__version__"
   ]
  },
  {
   "cell_type": "code",
   "execution_count": 7,
   "metadata": {},
   "outputs": [
    {
     "data": {
      "text/html": [
       "<div>\n",
       "<style scoped>\n",
       "    .dataframe tbody tr th:only-of-type {\n",
       "        vertical-align: middle;\n",
       "    }\n",
       "\n",
       "    .dataframe tbody tr th {\n",
       "        vertical-align: top;\n",
       "    }\n",
       "\n",
       "    .dataframe thead th {\n",
       "        text-align: right;\n",
       "    }\n",
       "</style>\n",
       "<table border=\"1\" class=\"dataframe\">\n",
       "  <thead>\n",
       "    <tr style=\"text-align: right;\">\n",
       "      <th></th>\n",
       "      <th>def_loc_nasc</th>\n",
       "      <th>IDADEMAE</th>\n",
       "      <th>def_est_civil</th>\n",
       "      <th>QTDFILVIVO</th>\n",
       "      <th>QTDFILMORT</th>\n",
       "      <th>def_gestacao</th>\n",
       "      <th>def_gravidez</th>\n",
       "      <th>def_parto</th>\n",
       "      <th>def_consultas</th>\n",
       "      <th>ano_nasc</th>\n",
       "      <th>...</th>\n",
       "      <th>HDI_educ</th>\n",
       "      <th>HDI_long</th>\n",
       "      <th>HDI_inc</th>\n",
       "      <th>GeoSES</th>\n",
       "      <th>GeoSESed</th>\n",
       "      <th>GeoSESpv</th>\n",
       "      <th>GeoSESdp</th>\n",
       "      <th>GeoSESwl</th>\n",
       "      <th>GeoSESin</th>\n",
       "      <th>GeoSESsg</th>\n",
       "    </tr>\n",
       "  </thead>\n",
       "  <tbody>\n",
       "    <tr>\n",
       "      <th>0</th>\n",
       "      <td>Hospital</td>\n",
       "      <td>31</td>\n",
       "      <td>Casado</td>\n",
       "      <td>1</td>\n",
       "      <td>0</td>\n",
       "      <td>37 a 41 semanas</td>\n",
       "      <td>Ãšnica</td>\n",
       "      <td>CesÃ¡reo</td>\n",
       "      <td>7 e mais</td>\n",
       "      <td>2019</td>\n",
       "      <td>...</td>\n",
       "      <td>0.600</td>\n",
       "      <td>0.806</td>\n",
       "      <td>0.716</td>\n",
       "      <td>-0.271203</td>\n",
       "      <td>61.955792</td>\n",
       "      <td>31.038901</td>\n",
       "      <td>14.750753</td>\n",
       "      <td>0.766355</td>\n",
       "      <td>2468.156796</td>\n",
       "      <td>0.078090</td>\n",
       "    </tr>\n",
       "    <tr>\n",
       "      <th>1</th>\n",
       "      <td>Hospital</td>\n",
       "      <td>34</td>\n",
       "      <td>Separado Judic./Divorciado</td>\n",
       "      <td>1</td>\n",
       "      <td>0</td>\n",
       "      <td>37 a 41 semanas</td>\n",
       "      <td>Ãšnica</td>\n",
       "      <td>CesÃ¡reo</td>\n",
       "      <td>7 e mais</td>\n",
       "      <td>2019</td>\n",
       "      <td>...</td>\n",
       "      <td>0.569</td>\n",
       "      <td>0.812</td>\n",
       "      <td>0.687</td>\n",
       "      <td>-0.345411</td>\n",
       "      <td>67.243633</td>\n",
       "      <td>31.840674</td>\n",
       "      <td>12.438018</td>\n",
       "      <td>0.756665</td>\n",
       "      <td>1974.867080</td>\n",
       "      <td>0.075791</td>\n",
       "    </tr>\n",
       "    <tr>\n",
       "      <th>2</th>\n",
       "      <td>Hospital</td>\n",
       "      <td>35</td>\n",
       "      <td>Casado</td>\n",
       "      <td>1</td>\n",
       "      <td>0</td>\n",
       "      <td>37 a 41 semanas</td>\n",
       "      <td>Ãšnica</td>\n",
       "      <td>CesÃ¡reo</td>\n",
       "      <td>7 e mais</td>\n",
       "      <td>2019</td>\n",
       "      <td>...</td>\n",
       "      <td>0.638</td>\n",
       "      <td>0.819</td>\n",
       "      <td>0.764</td>\n",
       "      <td>-0.107446</td>\n",
       "      <td>54.660565</td>\n",
       "      <td>25.279881</td>\n",
       "      <td>25.769260</td>\n",
       "      <td>1.425152</td>\n",
       "      <td>3369.488055</td>\n",
       "      <td>0.070639</td>\n",
       "    </tr>\n",
       "    <tr>\n",
       "      <th>3</th>\n",
       "      <td>Hospital</td>\n",
       "      <td>23</td>\n",
       "      <td>UniÃ£o consensual</td>\n",
       "      <td>4</td>\n",
       "      <td>0</td>\n",
       "      <td>37 a 41 semanas</td>\n",
       "      <td>Ãšnica</td>\n",
       "      <td>Vaginal</td>\n",
       "      <td>de 1 a 3</td>\n",
       "      <td>2019</td>\n",
       "      <td>...</td>\n",
       "      <td>0.638</td>\n",
       "      <td>0.819</td>\n",
       "      <td>0.764</td>\n",
       "      <td>-0.107446</td>\n",
       "      <td>54.660565</td>\n",
       "      <td>25.279881</td>\n",
       "      <td>25.769260</td>\n",
       "      <td>1.425152</td>\n",
       "      <td>3369.488055</td>\n",
       "      <td>0.070639</td>\n",
       "    </tr>\n",
       "    <tr>\n",
       "      <th>4</th>\n",
       "      <td>Hospital</td>\n",
       "      <td>27</td>\n",
       "      <td>Casado</td>\n",
       "      <td>1</td>\n",
       "      <td>0</td>\n",
       "      <td>37 a 41 semanas</td>\n",
       "      <td>Ãšnica</td>\n",
       "      <td>CesÃ¡reo</td>\n",
       "      <td>7 e mais</td>\n",
       "      <td>2019</td>\n",
       "      <td>...</td>\n",
       "      <td>0.659</td>\n",
       "      <td>0.808</td>\n",
       "      <td>0.734</td>\n",
       "      <td>-0.166268</td>\n",
       "      <td>58.343119</td>\n",
       "      <td>23.444961</td>\n",
       "      <td>21.900977</td>\n",
       "      <td>1.075079</td>\n",
       "      <td>2603.946701</td>\n",
       "      <td>0.105153</td>\n",
       "    </tr>\n",
       "  </tbody>\n",
       "</table>\n",
       "<p>5 rows × 37 columns</p>\n",
       "</div>"
      ],
      "text/plain": [
       "  def_loc_nasc  IDADEMAE               def_est_civil  QTDFILVIVO  QTDFILMORT  \\\n",
       "0     Hospital        31                      Casado           1           0   \n",
       "1     Hospital        34  Separado Judic./Divorciado           1           0   \n",
       "2     Hospital        35                      Casado           1           0   \n",
       "3     Hospital        23           UniÃ£o consensual           4           0   \n",
       "4     Hospital        27                      Casado           1           0   \n",
       "\n",
       "      def_gestacao def_gravidez def_parto def_consultas  ano_nasc  ...  \\\n",
       "0  37 a 41 semanas       Ãšnica  CesÃ¡reo      7 e mais      2019  ...   \n",
       "1  37 a 41 semanas       Ãšnica  CesÃ¡reo      7 e mais      2019  ...   \n",
       "2  37 a 41 semanas       Ãšnica  CesÃ¡reo      7 e mais      2019  ...   \n",
       "3  37 a 41 semanas       Ãšnica   Vaginal      de 1 a 3      2019  ...   \n",
       "4  37 a 41 semanas       Ãšnica  CesÃ¡reo      7 e mais      2019  ...   \n",
       "\n",
       "  HDI_educ  HDI_long  HDI_inc    GeoSES   GeoSESed   GeoSESpv   GeoSESdp  \\\n",
       "0    0.600     0.806    0.716 -0.271203  61.955792  31.038901  14.750753   \n",
       "1    0.569     0.812    0.687 -0.345411  67.243633  31.840674  12.438018   \n",
       "2    0.638     0.819    0.764 -0.107446  54.660565  25.279881  25.769260   \n",
       "3    0.638     0.819    0.764 -0.107446  54.660565  25.279881  25.769260   \n",
       "4    0.659     0.808    0.734 -0.166268  58.343119  23.444961  21.900977   \n",
       "\n",
       "   GeoSESwl     GeoSESin  GeoSESsg  \n",
       "0  0.766355  2468.156796  0.078090  \n",
       "1  0.756665  1974.867080  0.075791  \n",
       "2  1.425152  3369.488055  0.070639  \n",
       "3  1.425152  3369.488055  0.070639  \n",
       "4  1.075079  2603.946701  0.105153  \n",
       "\n",
       "[5 rows x 37 columns]"
      ]
     },
     "execution_count": 7,
     "metadata": {},
     "output_type": "execute_result"
    }
   ],
   "source": [
    "# Carregando os dados\n",
    "dataset = pd.read_parquet('df_ready.parquet')\n",
    "dataset.head()"
   ]
  },
  {
   "cell_type": "markdown",
   "metadata": {},
   "source": [
    "### Análise Exploratória"
   ]
  },
  {
   "cell_type": "code",
   "execution_count": 8,
   "metadata": {},
   "outputs": [
    {
     "data": {
      "text/plain": [
       "(4407236, 37)"
      ]
     },
     "execution_count": 8,
     "metadata": {},
     "output_type": "execute_result"
    }
   ],
   "source": [
    "# Shape\n",
    "dataset.shape"
   ]
  },
  {
   "cell_type": "code",
   "execution_count": 9,
   "metadata": {},
   "outputs": [
    {
     "data": {
      "text/plain": [
       "def_loc_nasc           category\n",
       "IDADEMAE                  int32\n",
       "def_est_civil          category\n",
       "QTDFILVIVO                int32\n",
       "QTDFILMORT                int32\n",
       "def_gestacao           category\n",
       "def_gravidez           category\n",
       "def_parto              category\n",
       "def_consultas          category\n",
       "ano_nasc                  int32\n",
       "def_sexo               category\n",
       "APGAR1                    int32\n",
       "APGAR5                    int32\n",
       "def_raca_cor           category\n",
       "PESO                      int32\n",
       "QTDGESTANT                int32\n",
       "CONSPRENAT                int32\n",
       "MESPRENAT                 int32\n",
       "TPAPRESENT             category\n",
       "STTRABPART             category\n",
       "ESCMAEAGR1             category\n",
       "TPROBSON                  int32\n",
       "nasc_CAPITAL           category\n",
       "nasc_SIGLA_UF          category\n",
       "def_parto_prematuro      object\n",
       "mf                         bool\n",
       "HDI                     float64\n",
       "HDI_educ                float64\n",
       "HDI_long                float64\n",
       "HDI_inc                 float64\n",
       "GeoSES                  float64\n",
       "GeoSESed                float64\n",
       "GeoSESpv                float64\n",
       "GeoSESdp                float64\n",
       "GeoSESwl                float64\n",
       "GeoSESin                float64\n",
       "GeoSESsg                float64\n",
       "dtype: object"
      ]
     },
     "execution_count": 9,
     "metadata": {},
     "output_type": "execute_result"
    }
   ],
   "source": [
    "# Tipos de Dados\n",
    "dataset.dtypes"
   ]
  },
  {
   "cell_type": "code",
   "execution_count": 10,
   "metadata": {},
   "outputs": [
    {
     "data": {
      "text/html": [
       "<div>\n",
       "<style scoped>\n",
       "    .dataframe tbody tr th:only-of-type {\n",
       "        vertical-align: middle;\n",
       "    }\n",
       "\n",
       "    .dataframe tbody tr th {\n",
       "        vertical-align: top;\n",
       "    }\n",
       "\n",
       "    .dataframe thead th {\n",
       "        text-align: right;\n",
       "    }\n",
       "</style>\n",
       "<table border=\"1\" class=\"dataframe\">\n",
       "  <thead>\n",
       "    <tr style=\"text-align: right;\">\n",
       "      <th></th>\n",
       "      <th>IDADEMAE</th>\n",
       "      <th>QTDFILVIVO</th>\n",
       "      <th>QTDFILMORT</th>\n",
       "      <th>ano_nasc</th>\n",
       "      <th>APGAR1</th>\n",
       "      <th>APGAR5</th>\n",
       "      <th>PESO</th>\n",
       "      <th>QTDGESTANT</th>\n",
       "      <th>CONSPRENAT</th>\n",
       "      <th>MESPRENAT</th>\n",
       "      <th>...</th>\n",
       "      <th>HDI_educ</th>\n",
       "      <th>HDI_long</th>\n",
       "      <th>HDI_inc</th>\n",
       "      <th>GeoSES</th>\n",
       "      <th>GeoSESed</th>\n",
       "      <th>GeoSESpv</th>\n",
       "      <th>GeoSESdp</th>\n",
       "      <th>GeoSESwl</th>\n",
       "      <th>GeoSESin</th>\n",
       "      <th>GeoSESsg</th>\n",
       "    </tr>\n",
       "  </thead>\n",
       "  <tbody>\n",
       "    <tr>\n",
       "      <th>count</th>\n",
       "      <td>4.407236e+06</td>\n",
       "      <td>4.407236e+06</td>\n",
       "      <td>4.407236e+06</td>\n",
       "      <td>4.407236e+06</td>\n",
       "      <td>4.407236e+06</td>\n",
       "      <td>4.407236e+06</td>\n",
       "      <td>4.407236e+06</td>\n",
       "      <td>4.407236e+06</td>\n",
       "      <td>4.407236e+06</td>\n",
       "      <td>4.407236e+06</td>\n",
       "      <td>...</td>\n",
       "      <td>4.407236e+06</td>\n",
       "      <td>4.407236e+06</td>\n",
       "      <td>4.407236e+06</td>\n",
       "      <td>4.407236e+06</td>\n",
       "      <td>4.407236e+06</td>\n",
       "      <td>4.407236e+06</td>\n",
       "      <td>4.407236e+06</td>\n",
       "      <td>4.407236e+06</td>\n",
       "      <td>4.407236e+06</td>\n",
       "      <td>4.407236e+06</td>\n",
       "    </tr>\n",
       "    <tr>\n",
       "      <th>mean</th>\n",
       "      <td>2.725134e+01</td>\n",
       "      <td>9.753276e-01</td>\n",
       "      <td>2.415074e-01</td>\n",
       "      <td>2.019488e+03</td>\n",
       "      <td>8.392688e+00</td>\n",
       "      <td>9.364223e+00</td>\n",
       "      <td>3.233790e+03</td>\n",
       "      <td>1.202155e+00</td>\n",
       "      <td>8.366371e+00</td>\n",
       "      <td>2.460453e+00</td>\n",
       "      <td>...</td>\n",
       "      <td>6.628893e-01</td>\n",
       "      <td>8.309700e-01</td>\n",
       "      <td>7.393409e-01</td>\n",
       "      <td>-8.072273e-02</td>\n",
       "      <td>5.425320e+01</td>\n",
       "      <td>3.052692e+01</td>\n",
       "      <td>3.217280e+01</td>\n",
       "      <td>2.202362e+00</td>\n",
       "      <td>2.953098e+03</td>\n",
       "      <td>1.072388e-01</td>\n",
       "    </tr>\n",
       "    <tr>\n",
       "      <th>std</th>\n",
       "      <td>6.708262e+00</td>\n",
       "      <td>1.198536e+00</td>\n",
       "      <td>5.716626e-01</td>\n",
       "      <td>4.998604e-01</td>\n",
       "      <td>1.156690e+00</td>\n",
       "      <td>8.343141e-01</td>\n",
       "      <td>5.352742e+02</td>\n",
       "      <td>1.392996e+00</td>\n",
       "      <td>2.905007e+00</td>\n",
       "      <td>1.397230e+00</td>\n",
       "      <td>...</td>\n",
       "      <td>8.660701e-02</td>\n",
       "      <td>3.420584e-02</td>\n",
       "      <td>8.486408e-02</td>\n",
       "      <td>3.239492e-01</td>\n",
       "      <td>1.060918e+01</td>\n",
       "      <td>1.771035e+01</td>\n",
       "      <td>1.494931e+01</td>\n",
       "      <td>1.494433e+00</td>\n",
       "      <td>1.184154e+03</td>\n",
       "      <td>4.693911e-02</td>\n",
       "    </tr>\n",
       "    <tr>\n",
       "      <th>min</th>\n",
       "      <td>9.000000e+00</td>\n",
       "      <td>0.000000e+00</td>\n",
       "      <td>0.000000e+00</td>\n",
       "      <td>2.019000e+03</td>\n",
       "      <td>0.000000e+00</td>\n",
       "      <td>0.000000e+00</td>\n",
       "      <td>1.000000e+02</td>\n",
       "      <td>0.000000e+00</td>\n",
       "      <td>0.000000e+00</td>\n",
       "      <td>1.000000e+00</td>\n",
       "      <td>...</td>\n",
       "      <td>2.070000e-01</td>\n",
       "      <td>6.720000e-01</td>\n",
       "      <td>4.000000e-01</td>\n",
       "      <td>-1.000000e+00</td>\n",
       "      <td>3.418768e+01</td>\n",
       "      <td>2.142323e+00</td>\n",
       "      <td>0.000000e+00</td>\n",
       "      <td>0.000000e+00</td>\n",
       "      <td>4.644268e+02</td>\n",
       "      <td>-1.005050e-01</td>\n",
       "    </tr>\n",
       "    <tr>\n",
       "      <th>25%</th>\n",
       "      <td>2.200000e+01</td>\n",
       "      <td>0.000000e+00</td>\n",
       "      <td>0.000000e+00</td>\n",
       "      <td>2.019000e+03</td>\n",
       "      <td>8.000000e+00</td>\n",
       "      <td>9.000000e+00</td>\n",
       "      <td>2.970000e+03</td>\n",
       "      <td>0.000000e+00</td>\n",
       "      <td>7.000000e+00</td>\n",
       "      <td>2.000000e+00</td>\n",
       "      <td>...</td>\n",
       "      <td>6.210000e-01</td>\n",
       "      <td>8.150000e-01</td>\n",
       "      <td>6.940000e-01</td>\n",
       "      <td>-2.984751e-01</td>\n",
       "      <td>4.578308e+01</td>\n",
       "      <td>1.758015e+01</td>\n",
       "      <td>2.195567e+01</td>\n",
       "      <td>1.025424e+00</td>\n",
       "      <td>2.072729e+03</td>\n",
       "      <td>6.886664e-02</td>\n",
       "    </tr>\n",
       "    <tr>\n",
       "      <th>50%</th>\n",
       "      <td>2.700000e+01</td>\n",
       "      <td>1.000000e+00</td>\n",
       "      <td>0.000000e+00</td>\n",
       "      <td>2.019000e+03</td>\n",
       "      <td>9.000000e+00</td>\n",
       "      <td>9.000000e+00</td>\n",
       "      <td>3.260000e+03</td>\n",
       "      <td>1.000000e+00</td>\n",
       "      <td>8.000000e+00</td>\n",
       "      <td>2.000000e+00</td>\n",
       "      <td>...</td>\n",
       "      <td>6.920000e-01</td>\n",
       "      <td>8.380000e-01</td>\n",
       "      <td>7.470000e-01</td>\n",
       "      <td>-4.908237e-02</td>\n",
       "      <td>5.177988e+01</td>\n",
       "      <td>2.450049e+01</td>\n",
       "      <td>3.452265e+01</td>\n",
       "      <td>1.981604e+00</td>\n",
       "      <td>2.887324e+03</td>\n",
       "      <td>1.106456e-01</td>\n",
       "    </tr>\n",
       "    <tr>\n",
       "      <th>75%</th>\n",
       "      <td>3.200000e+01</td>\n",
       "      <td>1.000000e+00</td>\n",
       "      <td>0.000000e+00</td>\n",
       "      <td>2.020000e+03</td>\n",
       "      <td>9.000000e+00</td>\n",
       "      <td>1.000000e+01</td>\n",
       "      <td>3.555000e+03</td>\n",
       "      <td>2.000000e+00</td>\n",
       "      <td>1.000000e+01</td>\n",
       "      <td>3.000000e+00</td>\n",
       "      <td>...</td>\n",
       "      <td>7.250000e-01</td>\n",
       "      <td>8.550000e-01</td>\n",
       "      <td>7.980000e-01</td>\n",
       "      <td>1.789199e-01</td>\n",
       "      <td>6.081498e+01</td>\n",
       "      <td>3.895596e+01</td>\n",
       "      <td>4.505063e+01</td>\n",
       "      <td>3.369368e+00</td>\n",
       "      <td>3.749064e+03</td>\n",
       "      <td>1.452918e-01</td>\n",
       "    </tr>\n",
       "    <tr>\n",
       "      <th>max</th>\n",
       "      <td>6.500000e+01</td>\n",
       "      <td>2.200000e+01</td>\n",
       "      <td>2.500000e+01</td>\n",
       "      <td>2.020000e+03</td>\n",
       "      <td>1.000000e+01</td>\n",
       "      <td>1.000000e+01</td>\n",
       "      <td>4.860000e+03</td>\n",
       "      <td>2.500000e+01</td>\n",
       "      <td>2.000000e+01</td>\n",
       "      <td>9.000000e+00</td>\n",
       "      <td>...</td>\n",
       "      <td>8.110000e-01</td>\n",
       "      <td>8.940000e-01</td>\n",
       "      <td>8.910000e-01</td>\n",
       "      <td>1.000000e+00</td>\n",
       "      <td>9.338995e+01</td>\n",
       "      <td>9.153945e+01</td>\n",
       "      <td>6.276333e+01</td>\n",
       "      <td>1.757994e+01</td>\n",
       "      <td>6.707759e+03</td>\n",
       "      <td>2.024996e-01</td>\n",
       "    </tr>\n",
       "  </tbody>\n",
       "</table>\n",
       "<p>8 rows × 22 columns</p>\n",
       "</div>"
      ],
      "text/plain": [
       "           IDADEMAE    QTDFILVIVO    QTDFILMORT      ano_nasc        APGAR1  \\\n",
       "count  4.407236e+06  4.407236e+06  4.407236e+06  4.407236e+06  4.407236e+06   \n",
       "mean   2.725134e+01  9.753276e-01  2.415074e-01  2.019488e+03  8.392688e+00   \n",
       "std    6.708262e+00  1.198536e+00  5.716626e-01  4.998604e-01  1.156690e+00   \n",
       "min    9.000000e+00  0.000000e+00  0.000000e+00  2.019000e+03  0.000000e+00   \n",
       "25%    2.200000e+01  0.000000e+00  0.000000e+00  2.019000e+03  8.000000e+00   \n",
       "50%    2.700000e+01  1.000000e+00  0.000000e+00  2.019000e+03  9.000000e+00   \n",
       "75%    3.200000e+01  1.000000e+00  0.000000e+00  2.020000e+03  9.000000e+00   \n",
       "max    6.500000e+01  2.200000e+01  2.500000e+01  2.020000e+03  1.000000e+01   \n",
       "\n",
       "             APGAR5          PESO    QTDGESTANT    CONSPRENAT     MESPRENAT  \\\n",
       "count  4.407236e+06  4.407236e+06  4.407236e+06  4.407236e+06  4.407236e+06   \n",
       "mean   9.364223e+00  3.233790e+03  1.202155e+00  8.366371e+00  2.460453e+00   \n",
       "std    8.343141e-01  5.352742e+02  1.392996e+00  2.905007e+00  1.397230e+00   \n",
       "min    0.000000e+00  1.000000e+02  0.000000e+00  0.000000e+00  1.000000e+00   \n",
       "25%    9.000000e+00  2.970000e+03  0.000000e+00  7.000000e+00  2.000000e+00   \n",
       "50%    9.000000e+00  3.260000e+03  1.000000e+00  8.000000e+00  2.000000e+00   \n",
       "75%    1.000000e+01  3.555000e+03  2.000000e+00  1.000000e+01  3.000000e+00   \n",
       "max    1.000000e+01  4.860000e+03  2.500000e+01  2.000000e+01  9.000000e+00   \n",
       "\n",
       "       ...      HDI_educ      HDI_long       HDI_inc        GeoSES  \\\n",
       "count  ...  4.407236e+06  4.407236e+06  4.407236e+06  4.407236e+06   \n",
       "mean   ...  6.628893e-01  8.309700e-01  7.393409e-01 -8.072273e-02   \n",
       "std    ...  8.660701e-02  3.420584e-02  8.486408e-02  3.239492e-01   \n",
       "min    ...  2.070000e-01  6.720000e-01  4.000000e-01 -1.000000e+00   \n",
       "25%    ...  6.210000e-01  8.150000e-01  6.940000e-01 -2.984751e-01   \n",
       "50%    ...  6.920000e-01  8.380000e-01  7.470000e-01 -4.908237e-02   \n",
       "75%    ...  7.250000e-01  8.550000e-01  7.980000e-01  1.789199e-01   \n",
       "max    ...  8.110000e-01  8.940000e-01  8.910000e-01  1.000000e+00   \n",
       "\n",
       "           GeoSESed      GeoSESpv      GeoSESdp      GeoSESwl      GeoSESin  \\\n",
       "count  4.407236e+06  4.407236e+06  4.407236e+06  4.407236e+06  4.407236e+06   \n",
       "mean   5.425320e+01  3.052692e+01  3.217280e+01  2.202362e+00  2.953098e+03   \n",
       "std    1.060918e+01  1.771035e+01  1.494931e+01  1.494433e+00  1.184154e+03   \n",
       "min    3.418768e+01  2.142323e+00  0.000000e+00  0.000000e+00  4.644268e+02   \n",
       "25%    4.578308e+01  1.758015e+01  2.195567e+01  1.025424e+00  2.072729e+03   \n",
       "50%    5.177988e+01  2.450049e+01  3.452265e+01  1.981604e+00  2.887324e+03   \n",
       "75%    6.081498e+01  3.895596e+01  4.505063e+01  3.369368e+00  3.749064e+03   \n",
       "max    9.338995e+01  9.153945e+01  6.276333e+01  1.757994e+01  6.707759e+03   \n",
       "\n",
       "           GeoSESsg  \n",
       "count  4.407236e+06  \n",
       "mean   1.072388e-01  \n",
       "std    4.693911e-02  \n",
       "min   -1.005050e-01  \n",
       "25%    6.886664e-02  \n",
       "50%    1.106456e-01  \n",
       "75%    1.452918e-01  \n",
       "max    2.024996e-01  \n",
       "\n",
       "[8 rows x 22 columns]"
      ]
     },
     "execution_count": 10,
     "metadata": {},
     "output_type": "execute_result"
    }
   ],
   "source": [
    "# Resumo Estatístico\n",
    "dataset.describe()"
   ]
  },
  {
   "cell_type": "code",
   "execution_count": 11,
   "metadata": {},
   "outputs": [
    {
     "data": {
      "text/plain": [
       "def_loc_nasc           0\n",
       "IDADEMAE               0\n",
       "def_est_civil          0\n",
       "QTDFILVIVO             0\n",
       "QTDFILMORT             0\n",
       "def_gestacao           0\n",
       "def_gravidez           0\n",
       "def_parto              0\n",
       "def_consultas          0\n",
       "ano_nasc               0\n",
       "def_sexo               0\n",
       "APGAR1                 0\n",
       "APGAR5                 0\n",
       "def_raca_cor           0\n",
       "PESO                   0\n",
       "QTDGESTANT             0\n",
       "CONSPRENAT             0\n",
       "MESPRENAT              0\n",
       "TPAPRESENT             0\n",
       "STTRABPART             0\n",
       "ESCMAEAGR1             0\n",
       "TPROBSON               0\n",
       "nasc_CAPITAL           0\n",
       "nasc_SIGLA_UF          0\n",
       "def_parto_prematuro    0\n",
       "mf                     0\n",
       "HDI                    0\n",
       "HDI_educ               0\n",
       "HDI_long               0\n",
       "HDI_inc                0\n",
       "GeoSES                 0\n",
       "GeoSESed               0\n",
       "GeoSESpv               0\n",
       "GeoSESdp               0\n",
       "GeoSESwl               0\n",
       "GeoSESin               0\n",
       "GeoSESsg               0\n",
       "dtype: int64"
      ]
     },
     "execution_count": 11,
     "metadata": {},
     "output_type": "execute_result"
    }
   ],
   "source": [
    "# Verificando se temos valores ausentes\n",
    "# Total por variável\n",
    "dataset.isnull().sum()"
   ]
  },
  {
   "cell_type": "code",
   "execution_count": 12,
   "metadata": {},
   "outputs": [
    {
     "data": {
      "text/plain": [
       "def_loc_nasc           4407236\n",
       "IDADEMAE               4407236\n",
       "def_est_civil          4407236\n",
       "QTDFILVIVO             4407236\n",
       "QTDFILMORT             4407236\n",
       "def_gestacao           4407236\n",
       "def_gravidez           4407236\n",
       "def_parto              4407236\n",
       "def_consultas          4407236\n",
       "ano_nasc               4407236\n",
       "def_sexo               4407236\n",
       "APGAR1                 4407236\n",
       "APGAR5                 4407236\n",
       "def_raca_cor           4407236\n",
       "PESO                   4407236\n",
       "QTDGESTANT             4407236\n",
       "CONSPRENAT             4407236\n",
       "MESPRENAT              4407236\n",
       "TPAPRESENT             4407236\n",
       "STTRABPART             4407236\n",
       "ESCMAEAGR1             4407236\n",
       "TPROBSON               4407236\n",
       "nasc_CAPITAL           4407236\n",
       "nasc_SIGLA_UF          4407236\n",
       "def_parto_prematuro    4407236\n",
       "mf                     4407236\n",
       "HDI                    4407236\n",
       "HDI_educ               4407236\n",
       "HDI_long               4407236\n",
       "HDI_inc                4407236\n",
       "GeoSES                 4407236\n",
       "GeoSESed               4407236\n",
       "GeoSESpv               4407236\n",
       "GeoSESdp               4407236\n",
       "GeoSESwl               4407236\n",
       "GeoSESin               4407236\n",
       "GeoSESsg               4407236\n",
       "dtype: int64"
      ]
     },
     "execution_count": 12,
     "metadata": {},
     "output_type": "execute_result"
    }
   ],
   "source": [
    "# Total de linhas por coluna\n",
    "dataset.count() "
   ]
  },
  {
   "cell_type": "code",
   "execution_count": 13,
   "metadata": {},
   "outputs": [
    {
     "name": "stdout",
     "output_type": "stream",
     "text": [
      "Número de linhas duplicadas:  1012\n"
     ]
    }
   ],
   "source": [
    "# Linhas contendo dados duplicados\n",
    "linha_duplicadas = dataset[dataset.duplicated()]\n",
    "print(\"Número de linhas duplicadas: \", linha_duplicadas.shape[0])\n",
    "\n",
    "# São realmente dados duplicados?"
   ]
  },
  {
   "cell_type": "code",
   "execution_count": 14,
   "metadata": {},
   "outputs": [
    {
     "data": {
      "text/html": [
       "<div>\n",
       "<style scoped>\n",
       "    .dataframe tbody tr th:only-of-type {\n",
       "        vertical-align: middle;\n",
       "    }\n",
       "\n",
       "    .dataframe tbody tr th {\n",
       "        vertical-align: top;\n",
       "    }\n",
       "\n",
       "    .dataframe thead th {\n",
       "        text-align: right;\n",
       "    }\n",
       "</style>\n",
       "<table border=\"1\" class=\"dataframe\">\n",
       "  <thead>\n",
       "    <tr style=\"text-align: right;\">\n",
       "      <th></th>\n",
       "      <th>def_loc_nasc</th>\n",
       "      <th>IDADEMAE</th>\n",
       "      <th>def_est_civil</th>\n",
       "      <th>QTDFILVIVO</th>\n",
       "      <th>QTDFILMORT</th>\n",
       "      <th>def_gestacao</th>\n",
       "      <th>def_gravidez</th>\n",
       "      <th>def_parto</th>\n",
       "      <th>def_consultas</th>\n",
       "      <th>ano_nasc</th>\n",
       "      <th>...</th>\n",
       "      <th>HDI_educ</th>\n",
       "      <th>HDI_long</th>\n",
       "      <th>HDI_inc</th>\n",
       "      <th>GeoSES</th>\n",
       "      <th>GeoSESed</th>\n",
       "      <th>GeoSESpv</th>\n",
       "      <th>GeoSESdp</th>\n",
       "      <th>GeoSESwl</th>\n",
       "      <th>GeoSESin</th>\n",
       "      <th>GeoSESsg</th>\n",
       "    </tr>\n",
       "  </thead>\n",
       "  <tbody>\n",
       "    <tr>\n",
       "      <th>0</th>\n",
       "      <td>Hospital</td>\n",
       "      <td>31</td>\n",
       "      <td>Casado</td>\n",
       "      <td>1</td>\n",
       "      <td>0</td>\n",
       "      <td>37 a 41 semanas</td>\n",
       "      <td>Ãšnica</td>\n",
       "      <td>CesÃ¡reo</td>\n",
       "      <td>7 e mais</td>\n",
       "      <td>2019</td>\n",
       "      <td>...</td>\n",
       "      <td>0.600</td>\n",
       "      <td>0.806</td>\n",
       "      <td>0.716</td>\n",
       "      <td>-0.271203</td>\n",
       "      <td>61.955792</td>\n",
       "      <td>31.038901</td>\n",
       "      <td>14.750753</td>\n",
       "      <td>0.766355</td>\n",
       "      <td>2468.156796</td>\n",
       "      <td>0.078090</td>\n",
       "    </tr>\n",
       "    <tr>\n",
       "      <th>1</th>\n",
       "      <td>Hospital</td>\n",
       "      <td>34</td>\n",
       "      <td>Separado Judic./Divorciado</td>\n",
       "      <td>1</td>\n",
       "      <td>0</td>\n",
       "      <td>37 a 41 semanas</td>\n",
       "      <td>Ãšnica</td>\n",
       "      <td>CesÃ¡reo</td>\n",
       "      <td>7 e mais</td>\n",
       "      <td>2019</td>\n",
       "      <td>...</td>\n",
       "      <td>0.569</td>\n",
       "      <td>0.812</td>\n",
       "      <td>0.687</td>\n",
       "      <td>-0.345411</td>\n",
       "      <td>67.243633</td>\n",
       "      <td>31.840674</td>\n",
       "      <td>12.438018</td>\n",
       "      <td>0.756665</td>\n",
       "      <td>1974.867080</td>\n",
       "      <td>0.075791</td>\n",
       "    </tr>\n",
       "    <tr>\n",
       "      <th>2</th>\n",
       "      <td>Hospital</td>\n",
       "      <td>35</td>\n",
       "      <td>Casado</td>\n",
       "      <td>1</td>\n",
       "      <td>0</td>\n",
       "      <td>37 a 41 semanas</td>\n",
       "      <td>Ãšnica</td>\n",
       "      <td>CesÃ¡reo</td>\n",
       "      <td>7 e mais</td>\n",
       "      <td>2019</td>\n",
       "      <td>...</td>\n",
       "      <td>0.638</td>\n",
       "      <td>0.819</td>\n",
       "      <td>0.764</td>\n",
       "      <td>-0.107446</td>\n",
       "      <td>54.660565</td>\n",
       "      <td>25.279881</td>\n",
       "      <td>25.769260</td>\n",
       "      <td>1.425152</td>\n",
       "      <td>3369.488055</td>\n",
       "      <td>0.070639</td>\n",
       "    </tr>\n",
       "    <tr>\n",
       "      <th>3</th>\n",
       "      <td>Hospital</td>\n",
       "      <td>23</td>\n",
       "      <td>UniÃ£o consensual</td>\n",
       "      <td>4</td>\n",
       "      <td>0</td>\n",
       "      <td>37 a 41 semanas</td>\n",
       "      <td>Ãšnica</td>\n",
       "      <td>Vaginal</td>\n",
       "      <td>de 1 a 3</td>\n",
       "      <td>2019</td>\n",
       "      <td>...</td>\n",
       "      <td>0.638</td>\n",
       "      <td>0.819</td>\n",
       "      <td>0.764</td>\n",
       "      <td>-0.107446</td>\n",
       "      <td>54.660565</td>\n",
       "      <td>25.279881</td>\n",
       "      <td>25.769260</td>\n",
       "      <td>1.425152</td>\n",
       "      <td>3369.488055</td>\n",
       "      <td>0.070639</td>\n",
       "    </tr>\n",
       "    <tr>\n",
       "      <th>4</th>\n",
       "      <td>Hospital</td>\n",
       "      <td>27</td>\n",
       "      <td>Casado</td>\n",
       "      <td>1</td>\n",
       "      <td>0</td>\n",
       "      <td>37 a 41 semanas</td>\n",
       "      <td>Ãšnica</td>\n",
       "      <td>CesÃ¡reo</td>\n",
       "      <td>7 e mais</td>\n",
       "      <td>2019</td>\n",
       "      <td>...</td>\n",
       "      <td>0.659</td>\n",
       "      <td>0.808</td>\n",
       "      <td>0.734</td>\n",
       "      <td>-0.166268</td>\n",
       "      <td>58.343119</td>\n",
       "      <td>23.444961</td>\n",
       "      <td>21.900977</td>\n",
       "      <td>1.075079</td>\n",
       "      <td>2603.946701</td>\n",
       "      <td>0.105153</td>\n",
       "    </tr>\n",
       "  </tbody>\n",
       "</table>\n",
       "<p>5 rows × 37 columns</p>\n",
       "</div>"
      ],
      "text/plain": [
       "  def_loc_nasc  IDADEMAE               def_est_civil  QTDFILVIVO  QTDFILMORT  \\\n",
       "0     Hospital        31                      Casado           1           0   \n",
       "1     Hospital        34  Separado Judic./Divorciado           1           0   \n",
       "2     Hospital        35                      Casado           1           0   \n",
       "3     Hospital        23           UniÃ£o consensual           4           0   \n",
       "4     Hospital        27                      Casado           1           0   \n",
       "\n",
       "      def_gestacao def_gravidez def_parto def_consultas  ano_nasc  ...  \\\n",
       "0  37 a 41 semanas       Ãšnica  CesÃ¡reo      7 e mais      2019  ...   \n",
       "1  37 a 41 semanas       Ãšnica  CesÃ¡reo      7 e mais      2019  ...   \n",
       "2  37 a 41 semanas       Ãšnica  CesÃ¡reo      7 e mais      2019  ...   \n",
       "3  37 a 41 semanas       Ãšnica   Vaginal      de 1 a 3      2019  ...   \n",
       "4  37 a 41 semanas       Ãšnica  CesÃ¡reo      7 e mais      2019  ...   \n",
       "\n",
       "  HDI_educ  HDI_long  HDI_inc    GeoSES   GeoSESed   GeoSESpv   GeoSESdp  \\\n",
       "0    0.600     0.806    0.716 -0.271203  61.955792  31.038901  14.750753   \n",
       "1    0.569     0.812    0.687 -0.345411  67.243633  31.840674  12.438018   \n",
       "2    0.638     0.819    0.764 -0.107446  54.660565  25.279881  25.769260   \n",
       "3    0.638     0.819    0.764 -0.107446  54.660565  25.279881  25.769260   \n",
       "4    0.659     0.808    0.734 -0.166268  58.343119  23.444961  21.900977   \n",
       "\n",
       "   GeoSESwl     GeoSESin  GeoSESsg  \n",
       "0  0.766355  2468.156796  0.078090  \n",
       "1  0.756665  1974.867080  0.075791  \n",
       "2  1.425152  3369.488055  0.070639  \n",
       "3  1.425152  3369.488055  0.070639  \n",
       "4  1.075079  2603.946701  0.105153  \n",
       "\n",
       "[5 rows x 37 columns]"
      ]
     },
     "execution_count": 14,
     "metadata": {},
     "output_type": "execute_result"
    }
   ],
   "source": [
    "dataset.head()"
   ]
  },
  {
   "cell_type": "code",
   "execution_count": 15,
   "metadata": {},
   "outputs": [],
   "source": [
    "# Função para visualizar a distribuição de cada variável\n",
    "def cria_histograma(dataset, features, rows, cols):\n",
    "    fig = plt.figure(figsize = (20,20))\n",
    "    \n",
    "    for i, feature in enumerate(features):\n",
    "        ax = fig.add_subplot(rows, cols, i+1)\n",
    "        dataset[feature].hist(bins = 20, ax = ax, facecolor = 'midnightblue')\n",
    "        ax.set_title(feature + \" Distribuição\", color = 'DarkRed')\n",
    "        \n",
    "    fig.tight_layout()  \n",
    "    plt.show()"
   ]
  },
  {
   "cell_type": "code",
   "execution_count": 16,
   "metadata": {},
   "outputs": [
    {
     "name": "stderr",
     "output_type": "stream",
     "text": [
      "<__array_function__ internals>:5: RuntimeWarning: Converting input from bool to <class 'numpy.uint8'> for compatibility.\n"
     ]
    },
    {
     "ename": "TypeError",
     "evalue": "numpy boolean subtract, the `-` operator, is not supported, use the bitwise_xor, the `^` operator, or the logical_xor function instead.",
     "output_type": "error",
     "traceback": [
      "\u001b[1;31m---------------------------------------------------------------------------\u001b[0m",
      "\u001b[1;31mKeyError\u001b[0m                                  Traceback (most recent call last)",
      "\u001b[1;32m~\\anaconda3\\lib\\site-packages\\numpy\\lib\\histograms.py\u001b[0m in \u001b[0;36m_unsigned_subtract\u001b[1;34m(a, b)\u001b[0m\n\u001b[0;32m    350\u001b[0m     \u001b[1;32mtry\u001b[0m\u001b[1;33m:\u001b[0m\u001b[1;33m\u001b[0m\u001b[1;33m\u001b[0m\u001b[0m\n\u001b[1;32m--> 351\u001b[1;33m         \u001b[0mdt\u001b[0m \u001b[1;33m=\u001b[0m \u001b[0msigned_to_unsigned\u001b[0m\u001b[1;33m[\u001b[0m\u001b[0mdt\u001b[0m\u001b[1;33m.\u001b[0m\u001b[0mtype\u001b[0m\u001b[1;33m]\u001b[0m\u001b[1;33m\u001b[0m\u001b[1;33m\u001b[0m\u001b[0m\n\u001b[0m\u001b[0;32m    352\u001b[0m     \u001b[1;32mexcept\u001b[0m \u001b[0mKeyError\u001b[0m\u001b[1;33m:\u001b[0m\u001b[1;33m\u001b[0m\u001b[1;33m\u001b[0m\u001b[0m\n",
      "\u001b[1;31mKeyError\u001b[0m: <class 'numpy.bool_'>",
      "\nDuring handling of the above exception, another exception occurred:\n",
      "\u001b[1;31mTypeError\u001b[0m                                 Traceback (most recent call last)",
      "\u001b[1;32m<ipython-input-16-b019daff2d43>\u001b[0m in \u001b[0;36m<module>\u001b[1;34m\u001b[0m\n\u001b[0;32m      1\u001b[0m \u001b[1;31m# Executa a função\u001b[0m\u001b[1;33m\u001b[0m\u001b[1;33m\u001b[0m\u001b[1;33m\u001b[0m\u001b[0m\n\u001b[1;32m----> 2\u001b[1;33m \u001b[0mcria_histograma\u001b[0m\u001b[1;33m(\u001b[0m\u001b[0mdataset\u001b[0m\u001b[1;33m,\u001b[0m \u001b[0mdataset\u001b[0m\u001b[1;33m.\u001b[0m\u001b[0mcolumns\u001b[0m\u001b[1;33m,\u001b[0m \u001b[1;36m6\u001b[0m\u001b[1;33m,\u001b[0m \u001b[1;36m7\u001b[0m\u001b[1;33m)\u001b[0m\u001b[1;33m\u001b[0m\u001b[1;33m\u001b[0m\u001b[0m\n\u001b[0m",
      "\u001b[1;32m<ipython-input-15-36f91cc653b4>\u001b[0m in \u001b[0;36mcria_histograma\u001b[1;34m(dataset, features, rows, cols)\u001b[0m\n\u001b[0;32m      5\u001b[0m     \u001b[1;32mfor\u001b[0m \u001b[0mi\u001b[0m\u001b[1;33m,\u001b[0m \u001b[0mfeature\u001b[0m \u001b[1;32min\u001b[0m \u001b[0menumerate\u001b[0m\u001b[1;33m(\u001b[0m\u001b[0mfeatures\u001b[0m\u001b[1;33m)\u001b[0m\u001b[1;33m:\u001b[0m\u001b[1;33m\u001b[0m\u001b[1;33m\u001b[0m\u001b[0m\n\u001b[0;32m      6\u001b[0m         \u001b[0max\u001b[0m \u001b[1;33m=\u001b[0m \u001b[0mfig\u001b[0m\u001b[1;33m.\u001b[0m\u001b[0madd_subplot\u001b[0m\u001b[1;33m(\u001b[0m\u001b[0mrows\u001b[0m\u001b[1;33m,\u001b[0m \u001b[0mcols\u001b[0m\u001b[1;33m,\u001b[0m \u001b[0mi\u001b[0m\u001b[1;33m+\u001b[0m\u001b[1;36m1\u001b[0m\u001b[1;33m)\u001b[0m\u001b[1;33m\u001b[0m\u001b[1;33m\u001b[0m\u001b[0m\n\u001b[1;32m----> 7\u001b[1;33m         \u001b[0mdataset\u001b[0m\u001b[1;33m[\u001b[0m\u001b[0mfeature\u001b[0m\u001b[1;33m]\u001b[0m\u001b[1;33m.\u001b[0m\u001b[0mhist\u001b[0m\u001b[1;33m(\u001b[0m\u001b[0mbins\u001b[0m \u001b[1;33m=\u001b[0m \u001b[1;36m20\u001b[0m\u001b[1;33m,\u001b[0m \u001b[0max\u001b[0m \u001b[1;33m=\u001b[0m \u001b[0max\u001b[0m\u001b[1;33m,\u001b[0m \u001b[0mfacecolor\u001b[0m \u001b[1;33m=\u001b[0m \u001b[1;34m'midnightblue'\u001b[0m\u001b[1;33m)\u001b[0m\u001b[1;33m\u001b[0m\u001b[1;33m\u001b[0m\u001b[0m\n\u001b[0m\u001b[0;32m      8\u001b[0m         \u001b[0max\u001b[0m\u001b[1;33m.\u001b[0m\u001b[0mset_title\u001b[0m\u001b[1;33m(\u001b[0m\u001b[0mfeature\u001b[0m \u001b[1;33m+\u001b[0m \u001b[1;34m\" Distribuição\"\u001b[0m\u001b[1;33m,\u001b[0m \u001b[0mcolor\u001b[0m \u001b[1;33m=\u001b[0m \u001b[1;34m'DarkRed'\u001b[0m\u001b[1;33m)\u001b[0m\u001b[1;33m\u001b[0m\u001b[1;33m\u001b[0m\u001b[0m\n\u001b[0;32m      9\u001b[0m \u001b[1;33m\u001b[0m\u001b[0m\n",
      "\u001b[1;32m~\\anaconda3\\lib\\site-packages\\pandas\\plotting\\_core.py\u001b[0m in \u001b[0;36mhist_series\u001b[1;34m(self, by, ax, grid, xlabelsize, xrot, ylabelsize, yrot, figsize, bins, backend, **kwargs)\u001b[0m\n\u001b[0;32m     72\u001b[0m     \"\"\"\n\u001b[0;32m     73\u001b[0m     \u001b[0mplot_backend\u001b[0m \u001b[1;33m=\u001b[0m \u001b[0m_get_plot_backend\u001b[0m\u001b[1;33m(\u001b[0m\u001b[0mbackend\u001b[0m\u001b[1;33m)\u001b[0m\u001b[1;33m\u001b[0m\u001b[1;33m\u001b[0m\u001b[0m\n\u001b[1;32m---> 74\u001b[1;33m     return plot_backend.hist_series(\n\u001b[0m\u001b[0;32m     75\u001b[0m         \u001b[0mself\u001b[0m\u001b[1;33m,\u001b[0m\u001b[1;33m\u001b[0m\u001b[1;33m\u001b[0m\u001b[0m\n\u001b[0;32m     76\u001b[0m         \u001b[0mby\u001b[0m\u001b[1;33m=\u001b[0m\u001b[0mby\u001b[0m\u001b[1;33m,\u001b[0m\u001b[1;33m\u001b[0m\u001b[1;33m\u001b[0m\u001b[0m\n",
      "\u001b[1;32m~\\anaconda3\\lib\\site-packages\\pandas\\plotting\\_matplotlib\\hist.py\u001b[0m in \u001b[0;36mhist_series\u001b[1;34m(self, by, ax, grid, xlabelsize, xrot, ylabelsize, yrot, figsize, bins, **kwds)\u001b[0m\n\u001b[0;32m    307\u001b[0m         \u001b[0mvalues\u001b[0m \u001b[1;33m=\u001b[0m \u001b[0mself\u001b[0m\u001b[1;33m.\u001b[0m\u001b[0mdropna\u001b[0m\u001b[1;33m(\u001b[0m\u001b[1;33m)\u001b[0m\u001b[1;33m.\u001b[0m\u001b[0mvalues\u001b[0m\u001b[1;33m\u001b[0m\u001b[1;33m\u001b[0m\u001b[0m\n\u001b[0;32m    308\u001b[0m \u001b[1;33m\u001b[0m\u001b[0m\n\u001b[1;32m--> 309\u001b[1;33m         \u001b[0max\u001b[0m\u001b[1;33m.\u001b[0m\u001b[0mhist\u001b[0m\u001b[1;33m(\u001b[0m\u001b[0mvalues\u001b[0m\u001b[1;33m,\u001b[0m \u001b[0mbins\u001b[0m\u001b[1;33m=\u001b[0m\u001b[0mbins\u001b[0m\u001b[1;33m,\u001b[0m \u001b[1;33m**\u001b[0m\u001b[0mkwds\u001b[0m\u001b[1;33m)\u001b[0m\u001b[1;33m\u001b[0m\u001b[1;33m\u001b[0m\u001b[0m\n\u001b[0m\u001b[0;32m    310\u001b[0m         \u001b[0max\u001b[0m\u001b[1;33m.\u001b[0m\u001b[0mgrid\u001b[0m\u001b[1;33m(\u001b[0m\u001b[0mgrid\u001b[0m\u001b[1;33m)\u001b[0m\u001b[1;33m\u001b[0m\u001b[1;33m\u001b[0m\u001b[0m\n\u001b[0;32m    311\u001b[0m         \u001b[0maxes\u001b[0m \u001b[1;33m=\u001b[0m \u001b[0mnp\u001b[0m\u001b[1;33m.\u001b[0m\u001b[0marray\u001b[0m\u001b[1;33m(\u001b[0m\u001b[1;33m[\u001b[0m\u001b[0max\u001b[0m\u001b[1;33m]\u001b[0m\u001b[1;33m)\u001b[0m\u001b[1;33m\u001b[0m\u001b[1;33m\u001b[0m\u001b[0m\n",
      "\u001b[1;32m~\\anaconda3\\lib\\site-packages\\matplotlib\\__init__.py\u001b[0m in \u001b[0;36minner\u001b[1;34m(ax, data, *args, **kwargs)\u001b[0m\n\u001b[0;32m   1563\u001b[0m     \u001b[1;32mdef\u001b[0m \u001b[0minner\u001b[0m\u001b[1;33m(\u001b[0m\u001b[0max\u001b[0m\u001b[1;33m,\u001b[0m \u001b[1;33m*\u001b[0m\u001b[0margs\u001b[0m\u001b[1;33m,\u001b[0m \u001b[0mdata\u001b[0m\u001b[1;33m=\u001b[0m\u001b[1;32mNone\u001b[0m\u001b[1;33m,\u001b[0m \u001b[1;33m**\u001b[0m\u001b[0mkwargs\u001b[0m\u001b[1;33m)\u001b[0m\u001b[1;33m:\u001b[0m\u001b[1;33m\u001b[0m\u001b[1;33m\u001b[0m\u001b[0m\n\u001b[0;32m   1564\u001b[0m         \u001b[1;32mif\u001b[0m \u001b[0mdata\u001b[0m \u001b[1;32mis\u001b[0m \u001b[1;32mNone\u001b[0m\u001b[1;33m:\u001b[0m\u001b[1;33m\u001b[0m\u001b[1;33m\u001b[0m\u001b[0m\n\u001b[1;32m-> 1565\u001b[1;33m             \u001b[1;32mreturn\u001b[0m \u001b[0mfunc\u001b[0m\u001b[1;33m(\u001b[0m\u001b[0max\u001b[0m\u001b[1;33m,\u001b[0m \u001b[1;33m*\u001b[0m\u001b[0mmap\u001b[0m\u001b[1;33m(\u001b[0m\u001b[0msanitize_sequence\u001b[0m\u001b[1;33m,\u001b[0m \u001b[0margs\u001b[0m\u001b[1;33m)\u001b[0m\u001b[1;33m,\u001b[0m \u001b[1;33m**\u001b[0m\u001b[0mkwargs\u001b[0m\u001b[1;33m)\u001b[0m\u001b[1;33m\u001b[0m\u001b[1;33m\u001b[0m\u001b[0m\n\u001b[0m\u001b[0;32m   1566\u001b[0m \u001b[1;33m\u001b[0m\u001b[0m\n\u001b[0;32m   1567\u001b[0m         \u001b[0mbound\u001b[0m \u001b[1;33m=\u001b[0m \u001b[0mnew_sig\u001b[0m\u001b[1;33m.\u001b[0m\u001b[0mbind\u001b[0m\u001b[1;33m(\u001b[0m\u001b[0max\u001b[0m\u001b[1;33m,\u001b[0m \u001b[1;33m*\u001b[0m\u001b[0margs\u001b[0m\u001b[1;33m,\u001b[0m \u001b[1;33m**\u001b[0m\u001b[0mkwargs\u001b[0m\u001b[1;33m)\u001b[0m\u001b[1;33m\u001b[0m\u001b[1;33m\u001b[0m\u001b[0m\n",
      "\u001b[1;32m~\\anaconda3\\lib\\site-packages\\matplotlib\\axes\\_axes.py\u001b[0m in \u001b[0;36mhist\u001b[1;34m(self, x, bins, range, density, weights, cumulative, bottom, histtype, align, orientation, rwidth, log, color, label, stacked, **kwargs)\u001b[0m\n\u001b[0;32m   6658\u001b[0m             \u001b[1;31m# this will automatically overwrite bins,\u001b[0m\u001b[1;33m\u001b[0m\u001b[1;33m\u001b[0m\u001b[1;33m\u001b[0m\u001b[0m\n\u001b[0;32m   6659\u001b[0m             \u001b[1;31m# so that each histogram uses the same bins\u001b[0m\u001b[1;33m\u001b[0m\u001b[1;33m\u001b[0m\u001b[1;33m\u001b[0m\u001b[0m\n\u001b[1;32m-> 6660\u001b[1;33m             \u001b[0mm\u001b[0m\u001b[1;33m,\u001b[0m \u001b[0mbins\u001b[0m \u001b[1;33m=\u001b[0m \u001b[0mnp\u001b[0m\u001b[1;33m.\u001b[0m\u001b[0mhistogram\u001b[0m\u001b[1;33m(\u001b[0m\u001b[0mx\u001b[0m\u001b[1;33m[\u001b[0m\u001b[0mi\u001b[0m\u001b[1;33m]\u001b[0m\u001b[1;33m,\u001b[0m \u001b[0mbins\u001b[0m\u001b[1;33m,\u001b[0m \u001b[0mweights\u001b[0m\u001b[1;33m=\u001b[0m\u001b[0mw\u001b[0m\u001b[1;33m[\u001b[0m\u001b[0mi\u001b[0m\u001b[1;33m]\u001b[0m\u001b[1;33m,\u001b[0m \u001b[1;33m**\u001b[0m\u001b[0mhist_kwargs\u001b[0m\u001b[1;33m)\u001b[0m\u001b[1;33m\u001b[0m\u001b[1;33m\u001b[0m\u001b[0m\n\u001b[0m\u001b[0;32m   6661\u001b[0m             \u001b[0mtops\u001b[0m\u001b[1;33m.\u001b[0m\u001b[0mappend\u001b[0m\u001b[1;33m(\u001b[0m\u001b[0mm\u001b[0m\u001b[1;33m)\u001b[0m\u001b[1;33m\u001b[0m\u001b[1;33m\u001b[0m\u001b[0m\n\u001b[0;32m   6662\u001b[0m         \u001b[0mtops\u001b[0m \u001b[1;33m=\u001b[0m \u001b[0mnp\u001b[0m\u001b[1;33m.\u001b[0m\u001b[0marray\u001b[0m\u001b[1;33m(\u001b[0m\u001b[0mtops\u001b[0m\u001b[1;33m,\u001b[0m \u001b[0mfloat\u001b[0m\u001b[1;33m)\u001b[0m  \u001b[1;31m# causes problems later if it's an int\u001b[0m\u001b[1;33m\u001b[0m\u001b[1;33m\u001b[0m\u001b[0m\n",
      "\u001b[1;32m<__array_function__ internals>\u001b[0m in \u001b[0;36mhistogram\u001b[1;34m(*args, **kwargs)\u001b[0m\n",
      "\u001b[1;32m~\\anaconda3\\lib\\site-packages\\numpy\\lib\\histograms.py\u001b[0m in \u001b[0;36mhistogram\u001b[1;34m(a, bins, range, normed, weights, density)\u001b[0m\n\u001b[0;32m    820\u001b[0m \u001b[1;33m\u001b[0m\u001b[0m\n\u001b[0;32m    821\u001b[0m         \u001b[1;31m# Pre-compute histogram scaling factor\u001b[0m\u001b[1;33m\u001b[0m\u001b[1;33m\u001b[0m\u001b[1;33m\u001b[0m\u001b[0m\n\u001b[1;32m--> 822\u001b[1;33m         \u001b[0mnorm\u001b[0m \u001b[1;33m=\u001b[0m \u001b[0mn_equal_bins\u001b[0m \u001b[1;33m/\u001b[0m \u001b[0m_unsigned_subtract\u001b[0m\u001b[1;33m(\u001b[0m\u001b[0mlast_edge\u001b[0m\u001b[1;33m,\u001b[0m \u001b[0mfirst_edge\u001b[0m\u001b[1;33m)\u001b[0m\u001b[1;33m\u001b[0m\u001b[1;33m\u001b[0m\u001b[0m\n\u001b[0m\u001b[0;32m    823\u001b[0m \u001b[1;33m\u001b[0m\u001b[0m\n\u001b[0;32m    824\u001b[0m         \u001b[1;31m# We iterate over blocks here for two reasons: the first is that for\u001b[0m\u001b[1;33m\u001b[0m\u001b[1;33m\u001b[0m\u001b[1;33m\u001b[0m\u001b[0m\n",
      "\u001b[1;32m~\\anaconda3\\lib\\site-packages\\numpy\\lib\\histograms.py\u001b[0m in \u001b[0;36m_unsigned_subtract\u001b[1;34m(a, b)\u001b[0m\n\u001b[0;32m    351\u001b[0m         \u001b[0mdt\u001b[0m \u001b[1;33m=\u001b[0m \u001b[0msigned_to_unsigned\u001b[0m\u001b[1;33m[\u001b[0m\u001b[0mdt\u001b[0m\u001b[1;33m.\u001b[0m\u001b[0mtype\u001b[0m\u001b[1;33m]\u001b[0m\u001b[1;33m\u001b[0m\u001b[1;33m\u001b[0m\u001b[0m\n\u001b[0;32m    352\u001b[0m     \u001b[1;32mexcept\u001b[0m \u001b[0mKeyError\u001b[0m\u001b[1;33m:\u001b[0m\u001b[1;33m\u001b[0m\u001b[1;33m\u001b[0m\u001b[0m\n\u001b[1;32m--> 353\u001b[1;33m         \u001b[1;32mreturn\u001b[0m \u001b[0mnp\u001b[0m\u001b[1;33m.\u001b[0m\u001b[0msubtract\u001b[0m\u001b[1;33m(\u001b[0m\u001b[0ma\u001b[0m\u001b[1;33m,\u001b[0m \u001b[0mb\u001b[0m\u001b[1;33m,\u001b[0m \u001b[0mdtype\u001b[0m\u001b[1;33m=\u001b[0m\u001b[0mdt\u001b[0m\u001b[1;33m)\u001b[0m\u001b[1;33m\u001b[0m\u001b[1;33m\u001b[0m\u001b[0m\n\u001b[0m\u001b[0;32m    354\u001b[0m     \u001b[1;32melse\u001b[0m\u001b[1;33m:\u001b[0m\u001b[1;33m\u001b[0m\u001b[1;33m\u001b[0m\u001b[0m\n\u001b[0;32m    355\u001b[0m         \u001b[1;31m# we know the inputs are integers, and we are deliberately casting\u001b[0m\u001b[1;33m\u001b[0m\u001b[1;33m\u001b[0m\u001b[1;33m\u001b[0m\u001b[0m\n",
      "\u001b[1;31mTypeError\u001b[0m: numpy boolean subtract, the `-` operator, is not supported, use the bitwise_xor, the `^` operator, or the logical_xor function instead."
     ]
    },
    {
     "data": {
      "image/png": "[encoded data removed]",
      "text/plain": [
       "<Figure size 1440x1440 with 26 Axes>"
      ]
     },
     "metadata": {
      "needs_background": "light"
     },
     "output_type": "display_data"
    }
   ],
   "source": [
    "# Executa a função\n",
    "cria_histograma(dataset, dataset.columns, 6, 7)"
   ]
  },
  {
   "cell_type": "markdown",
   "metadata": {},
   "source": [
    "### Pré-Processamento"
   ]
  },
  {
   "cell_type": "code",
   "execution_count": 17,
   "metadata": {},
   "outputs": [],
   "source": [
    "#!pip install imblearn"
   ]
  },
  {
   "cell_type": "code",
   "execution_count": 18,
   "metadata": {},
   "outputs": [],
   "source": [
    "#!pip install tensorflow"
   ]
  },
  {
   "cell_type": "code",
   "execution_count": 19,
   "metadata": {},
   "outputs": [],
   "source": [
    "#!pip install keras"
   ]
  },
  {
   "cell_type": "code",
   "execution_count": 20,
   "metadata": {},
   "outputs": [
    {
     "data": {
      "text/html": [
       "<div>\n",
       "<style scoped>\n",
       "    .dataframe tbody tr th:only-of-type {\n",
       "        vertical-align: middle;\n",
       "    }\n",
       "\n",
       "    .dataframe tbody tr th {\n",
       "        vertical-align: top;\n",
       "    }\n",
       "\n",
       "    .dataframe thead th {\n",
       "        text-align: right;\n",
       "    }\n",
       "</style>\n",
       "<table border=\"1\" class=\"dataframe\">\n",
       "  <thead>\n",
       "    <tr style=\"text-align: right;\">\n",
       "      <th></th>\n",
       "      <th>def_loc_nasc</th>\n",
       "      <th>IDADEMAE</th>\n",
       "      <th>def_est_civil</th>\n",
       "      <th>QTDFILVIVO</th>\n",
       "      <th>QTDFILMORT</th>\n",
       "      <th>def_gestacao</th>\n",
       "      <th>def_gravidez</th>\n",
       "      <th>def_parto</th>\n",
       "      <th>def_consultas</th>\n",
       "      <th>ano_nasc</th>\n",
       "      <th>...</th>\n",
       "      <th>HDI_educ</th>\n",
       "      <th>HDI_long</th>\n",
       "      <th>HDI_inc</th>\n",
       "      <th>GeoSES</th>\n",
       "      <th>GeoSESed</th>\n",
       "      <th>GeoSESpv</th>\n",
       "      <th>GeoSESdp</th>\n",
       "      <th>GeoSESwl</th>\n",
       "      <th>GeoSESin</th>\n",
       "      <th>GeoSESsg</th>\n",
       "    </tr>\n",
       "  </thead>\n",
       "  <tbody>\n",
       "    <tr>\n",
       "      <th>0</th>\n",
       "      <td>Hospital</td>\n",
       "      <td>31</td>\n",
       "      <td>Casado</td>\n",
       "      <td>1</td>\n",
       "      <td>0</td>\n",
       "      <td>37 a 41 semanas</td>\n",
       "      <td>Ãšnica</td>\n",
       "      <td>CesÃ¡reo</td>\n",
       "      <td>7 e mais</td>\n",
       "      <td>2019</td>\n",
       "      <td>...</td>\n",
       "      <td>0.600</td>\n",
       "      <td>0.806</td>\n",
       "      <td>0.716</td>\n",
       "      <td>-0.271203</td>\n",
       "      <td>61.955792</td>\n",
       "      <td>31.038901</td>\n",
       "      <td>14.750753</td>\n",
       "      <td>0.766355</td>\n",
       "      <td>2468.156796</td>\n",
       "      <td>0.078090</td>\n",
       "    </tr>\n",
       "    <tr>\n",
       "      <th>1</th>\n",
       "      <td>Hospital</td>\n",
       "      <td>34</td>\n",
       "      <td>Separado Judic./Divorciado</td>\n",
       "      <td>1</td>\n",
       "      <td>0</td>\n",
       "      <td>37 a 41 semanas</td>\n",
       "      <td>Ãšnica</td>\n",
       "      <td>CesÃ¡reo</td>\n",
       "      <td>7 e mais</td>\n",
       "      <td>2019</td>\n",
       "      <td>...</td>\n",
       "      <td>0.569</td>\n",
       "      <td>0.812</td>\n",
       "      <td>0.687</td>\n",
       "      <td>-0.345411</td>\n",
       "      <td>67.243633</td>\n",
       "      <td>31.840674</td>\n",
       "      <td>12.438018</td>\n",
       "      <td>0.756665</td>\n",
       "      <td>1974.867080</td>\n",
       "      <td>0.075791</td>\n",
       "    </tr>\n",
       "    <tr>\n",
       "      <th>2</th>\n",
       "      <td>Hospital</td>\n",
       "      <td>35</td>\n",
       "      <td>Casado</td>\n",
       "      <td>1</td>\n",
       "      <td>0</td>\n",
       "      <td>37 a 41 semanas</td>\n",
       "      <td>Ãšnica</td>\n",
       "      <td>CesÃ¡reo</td>\n",
       "      <td>7 e mais</td>\n",
       "      <td>2019</td>\n",
       "      <td>...</td>\n",
       "      <td>0.638</td>\n",
       "      <td>0.819</td>\n",
       "      <td>0.764</td>\n",
       "      <td>-0.107446</td>\n",
       "      <td>54.660565</td>\n",
       "      <td>25.279881</td>\n",
       "      <td>25.769260</td>\n",
       "      <td>1.425152</td>\n",
       "      <td>3369.488055</td>\n",
       "      <td>0.070639</td>\n",
       "    </tr>\n",
       "    <tr>\n",
       "      <th>3</th>\n",
       "      <td>Hospital</td>\n",
       "      <td>23</td>\n",
       "      <td>UniÃ£o consensual</td>\n",
       "      <td>4</td>\n",
       "      <td>0</td>\n",
       "      <td>37 a 41 semanas</td>\n",
       "      <td>Ãšnica</td>\n",
       "      <td>Vaginal</td>\n",
       "      <td>de 1 a 3</td>\n",
       "      <td>2019</td>\n",
       "      <td>...</td>\n",
       "      <td>0.638</td>\n",
       "      <td>0.819</td>\n",
       "      <td>0.764</td>\n",
       "      <td>-0.107446</td>\n",
       "      <td>54.660565</td>\n",
       "      <td>25.279881</td>\n",
       "      <td>25.769260</td>\n",
       "      <td>1.425152</td>\n",
       "      <td>3369.488055</td>\n",
       "      <td>0.070639</td>\n",
       "    </tr>\n",
       "    <tr>\n",
       "      <th>4</th>\n",
       "      <td>Hospital</td>\n",
       "      <td>27</td>\n",
       "      <td>Casado</td>\n",
       "      <td>1</td>\n",
       "      <td>0</td>\n",
       "      <td>37 a 41 semanas</td>\n",
       "      <td>Ãšnica</td>\n",
       "      <td>CesÃ¡reo</td>\n",
       "      <td>7 e mais</td>\n",
       "      <td>2019</td>\n",
       "      <td>...</td>\n",
       "      <td>0.659</td>\n",
       "      <td>0.808</td>\n",
       "      <td>0.734</td>\n",
       "      <td>-0.166268</td>\n",
       "      <td>58.343119</td>\n",
       "      <td>23.444961</td>\n",
       "      <td>21.900977</td>\n",
       "      <td>1.075079</td>\n",
       "      <td>2603.946701</td>\n",
       "      <td>0.105153</td>\n",
       "    </tr>\n",
       "  </tbody>\n",
       "</table>\n",
       "<p>5 rows × 37 columns</p>\n",
       "</div>"
      ],
      "text/plain": [
       "  def_loc_nasc  IDADEMAE               def_est_civil  QTDFILVIVO  QTDFILMORT  \\\n",
       "0     Hospital        31                      Casado           1           0   \n",
       "1     Hospital        34  Separado Judic./Divorciado           1           0   \n",
       "2     Hospital        35                      Casado           1           0   \n",
       "3     Hospital        23           UniÃ£o consensual           4           0   \n",
       "4     Hospital        27                      Casado           1           0   \n",
       "\n",
       "      def_gestacao def_gravidez def_parto def_consultas  ano_nasc  ...  \\\n",
       "0  37 a 41 semanas       Ãšnica  CesÃ¡reo      7 e mais      2019  ...   \n",
       "1  37 a 41 semanas       Ãšnica  CesÃ¡reo      7 e mais      2019  ...   \n",
       "2  37 a 41 semanas       Ãšnica  CesÃ¡reo      7 e mais      2019  ...   \n",
       "3  37 a 41 semanas       Ãšnica   Vaginal      de 1 a 3      2019  ...   \n",
       "4  37 a 41 semanas       Ãšnica  CesÃ¡reo      7 e mais      2019  ...   \n",
       "\n",
       "  HDI_educ  HDI_long  HDI_inc    GeoSES   GeoSESed   GeoSESpv   GeoSESdp  \\\n",
       "0    0.600     0.806    0.716 -0.271203  61.955792  31.038901  14.750753   \n",
       "1    0.569     0.812    0.687 -0.345411  67.243633  31.840674  12.438018   \n",
       "2    0.638     0.819    0.764 -0.107446  54.660565  25.279881  25.769260   \n",
       "3    0.638     0.819    0.764 -0.107446  54.660565  25.279881  25.769260   \n",
       "4    0.659     0.808    0.734 -0.166268  58.343119  23.444961  21.900977   \n",
       "\n",
       "   GeoSESwl     GeoSESin  GeoSESsg  \n",
       "0  0.766355  2468.156796  0.078090  \n",
       "1  0.756665  1974.867080  0.075791  \n",
       "2  1.425152  3369.488055  0.070639  \n",
       "3  1.425152  3369.488055  0.070639  \n",
       "4  1.075079  2603.946701  0.105153  \n",
       "\n",
       "[5 rows x 37 columns]"
      ]
     },
     "execution_count": 20,
     "metadata": {},
     "output_type": "execute_result"
    }
   ],
   "source": [
    "dataset.head()"
   ]
  },
  {
   "cell_type": "code",
   "execution_count": 21,
   "metadata": {},
   "outputs": [],
   "source": [
    "dataset.def_parto_prematuro = dataset.def_parto_prematuro.astype('category')"
   ]
  },
  {
   "cell_type": "code",
   "execution_count": 22,
   "metadata": {},
   "outputs": [
    {
     "data": {
      "text/html": [
       "<div>\n",
       "<style scoped>\n",
       "    .dataframe tbody tr th:only-of-type {\n",
       "        vertical-align: middle;\n",
       "    }\n",
       "\n",
       "    .dataframe tbody tr th {\n",
       "        vertical-align: top;\n",
       "    }\n",
       "\n",
       "    .dataframe thead th {\n",
       "        text-align: right;\n",
       "    }\n",
       "</style>\n",
       "<table border=\"1\" class=\"dataframe\">\n",
       "  <thead>\n",
       "    <tr style=\"text-align: right;\">\n",
       "      <th></th>\n",
       "      <th>IDADEMAE</th>\n",
       "      <th>QTDFILVIVO</th>\n",
       "      <th>QTDFILMORT</th>\n",
       "      <th>ano_nasc</th>\n",
       "      <th>APGAR1</th>\n",
       "      <th>APGAR5</th>\n",
       "      <th>PESO</th>\n",
       "      <th>QTDGESTANT</th>\n",
       "      <th>CONSPRENAT</th>\n",
       "      <th>MESPRENAT</th>\n",
       "      <th>...</th>\n",
       "      <th>nasc_SIGLA_UF_RN</th>\n",
       "      <th>nasc_SIGLA_UF_RO</th>\n",
       "      <th>nasc_SIGLA_UF_RR</th>\n",
       "      <th>nasc_SIGLA_UF_RS</th>\n",
       "      <th>nasc_SIGLA_UF_SC</th>\n",
       "      <th>nasc_SIGLA_UF_SE</th>\n",
       "      <th>nasc_SIGLA_UF_SP</th>\n",
       "      <th>nasc_SIGLA_UF_TO</th>\n",
       "      <th>def_parto_prematuro_Prematuro</th>\n",
       "      <th>def_parto_prematuro_Termo</th>\n",
       "    </tr>\n",
       "  </thead>\n",
       "  <tbody>\n",
       "    <tr>\n",
       "      <th>0</th>\n",
       "      <td>31</td>\n",
       "      <td>1</td>\n",
       "      <td>0</td>\n",
       "      <td>2019</td>\n",
       "      <td>9</td>\n",
       "      <td>10</td>\n",
       "      <td>3420</td>\n",
       "      <td>1</td>\n",
       "      <td>8</td>\n",
       "      <td>1</td>\n",
       "      <td>...</td>\n",
       "      <td>0</td>\n",
       "      <td>1</td>\n",
       "      <td>0</td>\n",
       "      <td>0</td>\n",
       "      <td>0</td>\n",
       "      <td>0</td>\n",
       "      <td>0</td>\n",
       "      <td>0</td>\n",
       "      <td>0</td>\n",
       "      <td>1</td>\n",
       "    </tr>\n",
       "    <tr>\n",
       "      <th>1</th>\n",
       "      <td>34</td>\n",
       "      <td>1</td>\n",
       "      <td>0</td>\n",
       "      <td>2019</td>\n",
       "      <td>10</td>\n",
       "      <td>10</td>\n",
       "      <td>3115</td>\n",
       "      <td>1</td>\n",
       "      <td>8</td>\n",
       "      <td>2</td>\n",
       "      <td>...</td>\n",
       "      <td>0</td>\n",
       "      <td>1</td>\n",
       "      <td>0</td>\n",
       "      <td>0</td>\n",
       "      <td>0</td>\n",
       "      <td>0</td>\n",
       "      <td>0</td>\n",
       "      <td>0</td>\n",
       "      <td>0</td>\n",
       "      <td>1</td>\n",
       "    </tr>\n",
       "    <tr>\n",
       "      <th>2</th>\n",
       "      <td>35</td>\n",
       "      <td>1</td>\n",
       "      <td>0</td>\n",
       "      <td>2019</td>\n",
       "      <td>8</td>\n",
       "      <td>9</td>\n",
       "      <td>3605</td>\n",
       "      <td>1</td>\n",
       "      <td>10</td>\n",
       "      <td>3</td>\n",
       "      <td>...</td>\n",
       "      <td>0</td>\n",
       "      <td>1</td>\n",
       "      <td>0</td>\n",
       "      <td>0</td>\n",
       "      <td>0</td>\n",
       "      <td>0</td>\n",
       "      <td>0</td>\n",
       "      <td>0</td>\n",
       "      <td>0</td>\n",
       "      <td>1</td>\n",
       "    </tr>\n",
       "    <tr>\n",
       "      <th>3</th>\n",
       "      <td>23</td>\n",
       "      <td>4</td>\n",
       "      <td>0</td>\n",
       "      <td>2019</td>\n",
       "      <td>9</td>\n",
       "      <td>10</td>\n",
       "      <td>3170</td>\n",
       "      <td>4</td>\n",
       "      <td>2</td>\n",
       "      <td>7</td>\n",
       "      <td>...</td>\n",
       "      <td>0</td>\n",
       "      <td>1</td>\n",
       "      <td>0</td>\n",
       "      <td>0</td>\n",
       "      <td>0</td>\n",
       "      <td>0</td>\n",
       "      <td>0</td>\n",
       "      <td>0</td>\n",
       "      <td>0</td>\n",
       "      <td>1</td>\n",
       "    </tr>\n",
       "    <tr>\n",
       "      <th>4</th>\n",
       "      <td>27</td>\n",
       "      <td>1</td>\n",
       "      <td>0</td>\n",
       "      <td>2019</td>\n",
       "      <td>8</td>\n",
       "      <td>9</td>\n",
       "      <td>3115</td>\n",
       "      <td>1</td>\n",
       "      <td>8</td>\n",
       "      <td>3</td>\n",
       "      <td>...</td>\n",
       "      <td>0</td>\n",
       "      <td>1</td>\n",
       "      <td>0</td>\n",
       "      <td>0</td>\n",
       "      <td>0</td>\n",
       "      <td>0</td>\n",
       "      <td>0</td>\n",
       "      <td>0</td>\n",
       "      <td>0</td>\n",
       "      <td>1</td>\n",
       "    </tr>\n",
       "    <tr>\n",
       "      <th>...</th>\n",
       "      <td>...</td>\n",
       "      <td>...</td>\n",
       "      <td>...</td>\n",
       "      <td>...</td>\n",
       "      <td>...</td>\n",
       "      <td>...</td>\n",
       "      <td>...</td>\n",
       "      <td>...</td>\n",
       "      <td>...</td>\n",
       "      <td>...</td>\n",
       "      <td>...</td>\n",
       "      <td>...</td>\n",
       "      <td>...</td>\n",
       "      <td>...</td>\n",
       "      <td>...</td>\n",
       "      <td>...</td>\n",
       "      <td>...</td>\n",
       "      <td>...</td>\n",
       "      <td>...</td>\n",
       "      <td>...</td>\n",
       "      <td>...</td>\n",
       "    </tr>\n",
       "    <tr>\n",
       "      <th>4407231</th>\n",
       "      <td>29</td>\n",
       "      <td>1</td>\n",
       "      <td>1</td>\n",
       "      <td>2020</td>\n",
       "      <td>9</td>\n",
       "      <td>10</td>\n",
       "      <td>3130</td>\n",
       "      <td>2</td>\n",
       "      <td>8</td>\n",
       "      <td>2</td>\n",
       "      <td>...</td>\n",
       "      <td>0</td>\n",
       "      <td>0</td>\n",
       "      <td>0</td>\n",
       "      <td>0</td>\n",
       "      <td>0</td>\n",
       "      <td>0</td>\n",
       "      <td>0</td>\n",
       "      <td>0</td>\n",
       "      <td>0</td>\n",
       "      <td>1</td>\n",
       "    </tr>\n",
       "    <tr>\n",
       "      <th>4407232</th>\n",
       "      <td>33</td>\n",
       "      <td>3</td>\n",
       "      <td>0</td>\n",
       "      <td>2020</td>\n",
       "      <td>9</td>\n",
       "      <td>10</td>\n",
       "      <td>3520</td>\n",
       "      <td>3</td>\n",
       "      <td>7</td>\n",
       "      <td>3</td>\n",
       "      <td>...</td>\n",
       "      <td>0</td>\n",
       "      <td>0</td>\n",
       "      <td>0</td>\n",
       "      <td>0</td>\n",
       "      <td>0</td>\n",
       "      <td>0</td>\n",
       "      <td>0</td>\n",
       "      <td>0</td>\n",
       "      <td>0</td>\n",
       "      <td>1</td>\n",
       "    </tr>\n",
       "    <tr>\n",
       "      <th>4407233</th>\n",
       "      <td>30</td>\n",
       "      <td>2</td>\n",
       "      <td>0</td>\n",
       "      <td>2020</td>\n",
       "      <td>7</td>\n",
       "      <td>8</td>\n",
       "      <td>1408</td>\n",
       "      <td>2</td>\n",
       "      <td>11</td>\n",
       "      <td>2</td>\n",
       "      <td>...</td>\n",
       "      <td>0</td>\n",
       "      <td>0</td>\n",
       "      <td>0</td>\n",
       "      <td>0</td>\n",
       "      <td>0</td>\n",
       "      <td>0</td>\n",
       "      <td>0</td>\n",
       "      <td>0</td>\n",
       "      <td>1</td>\n",
       "      <td>0</td>\n",
       "    </tr>\n",
       "    <tr>\n",
       "      <th>4407234</th>\n",
       "      <td>21</td>\n",
       "      <td>1</td>\n",
       "      <td>1</td>\n",
       "      <td>2020</td>\n",
       "      <td>8</td>\n",
       "      <td>9</td>\n",
       "      <td>2925</td>\n",
       "      <td>2</td>\n",
       "      <td>6</td>\n",
       "      <td>3</td>\n",
       "      <td>...</td>\n",
       "      <td>0</td>\n",
       "      <td>0</td>\n",
       "      <td>0</td>\n",
       "      <td>0</td>\n",
       "      <td>0</td>\n",
       "      <td>0</td>\n",
       "      <td>0</td>\n",
       "      <td>0</td>\n",
       "      <td>0</td>\n",
       "      <td>1</td>\n",
       "    </tr>\n",
       "    <tr>\n",
       "      <th>4407235</th>\n",
       "      <td>26</td>\n",
       "      <td>1</td>\n",
       "      <td>0</td>\n",
       "      <td>2020</td>\n",
       "      <td>9</td>\n",
       "      <td>10</td>\n",
       "      <td>3245</td>\n",
       "      <td>1</td>\n",
       "      <td>7</td>\n",
       "      <td>3</td>\n",
       "      <td>...</td>\n",
       "      <td>0</td>\n",
       "      <td>0</td>\n",
       "      <td>0</td>\n",
       "      <td>0</td>\n",
       "      <td>0</td>\n",
       "      <td>0</td>\n",
       "      <td>0</td>\n",
       "      <td>0</td>\n",
       "      <td>0</td>\n",
       "      <td>1</td>\n",
       "    </tr>\n",
       "  </tbody>\n",
       "</table>\n",
       "<p>4407236 rows × 110 columns</p>\n",
       "</div>"
      ],
      "text/plain": [
       "         IDADEMAE  QTDFILVIVO  QTDFILMORT  ano_nasc  APGAR1  APGAR5  PESO  \\\n",
       "0              31           1           0      2019       9      10  3420   \n",
       "1              34           1           0      2019      10      10  3115   \n",
       "2              35           1           0      2019       8       9  3605   \n",
       "3              23           4           0      2019       9      10  3170   \n",
       "4              27           1           0      2019       8       9  3115   \n",
       "...           ...         ...         ...       ...     ...     ...   ...   \n",
       "4407231        29           1           1      2020       9      10  3130   \n",
       "4407232        33           3           0      2020       9      10  3520   \n",
       "4407233        30           2           0      2020       7       8  1408   \n",
       "4407234        21           1           1      2020       8       9  2925   \n",
       "4407235        26           1           0      2020       9      10  3245   \n",
       "\n",
       "         QTDGESTANT  CONSPRENAT  MESPRENAT  ...  nasc_SIGLA_UF_RN  \\\n",
       "0                 1           8          1  ...                 0   \n",
       "1                 1           8          2  ...                 0   \n",
       "2                 1          10          3  ...                 0   \n",
       "3                 4           2          7  ...                 0   \n",
       "4                 1           8          3  ...                 0   \n",
       "...             ...         ...        ...  ...               ...   \n",
       "4407231           2           8          2  ...                 0   \n",
       "4407232           3           7          3  ...                 0   \n",
       "4407233           2          11          2  ...                 0   \n",
       "4407234           2           6          3  ...                 0   \n",
       "4407235           1           7          3  ...                 0   \n",
       "\n",
       "         nasc_SIGLA_UF_RO  nasc_SIGLA_UF_RR  nasc_SIGLA_UF_RS  \\\n",
       "0                       1                 0                 0   \n",
       "1                       1                 0                 0   \n",
       "2                       1                 0                 0   \n",
       "3                       1                 0                 0   \n",
       "4                       1                 0                 0   \n",
       "...                   ...               ...               ...   \n",
       "4407231                 0                 0                 0   \n",
       "4407232                 0                 0                 0   \n",
       "4407233                 0                 0                 0   \n",
       "4407234                 0                 0                 0   \n",
       "4407235                 0                 0                 0   \n",
       "\n",
       "         nasc_SIGLA_UF_SC  nasc_SIGLA_UF_SE  nasc_SIGLA_UF_SP  \\\n",
       "0                       0                 0                 0   \n",
       "1                       0                 0                 0   \n",
       "2                       0                 0                 0   \n",
       "3                       0                 0                 0   \n",
       "4                       0                 0                 0   \n",
       "...                   ...               ...               ...   \n",
       "4407231                 0                 0                 0   \n",
       "4407232                 0                 0                 0   \n",
       "4407233                 0                 0                 0   \n",
       "4407234                 0                 0                 0   \n",
       "4407235                 0                 0                 0   \n",
       "\n",
       "         nasc_SIGLA_UF_TO  def_parto_prematuro_Prematuro  \\\n",
       "0                       0                              0   \n",
       "1                       0                              0   \n",
       "2                       0                              0   \n",
       "3                       0                              0   \n",
       "4                       0                              0   \n",
       "...                   ...                            ...   \n",
       "4407231                 0                              0   \n",
       "4407232                 0                              0   \n",
       "4407233                 0                              1   \n",
       "4407234                 0                              0   \n",
       "4407235                 0                              0   \n",
       "\n",
       "         def_parto_prematuro_Termo  \n",
       "0                                1  \n",
       "1                                1  \n",
       "2                                1  \n",
       "3                                1  \n",
       "4                                1  \n",
       "...                            ...  \n",
       "4407231                          1  \n",
       "4407232                          1  \n",
       "4407233                          0  \n",
       "4407234                          1  \n",
       "4407235                          1  \n",
       "\n",
       "[4407236 rows x 110 columns]"
      ]
     },
     "execution_count": 22,
     "metadata": {},
     "output_type": "execute_result"
    }
   ],
   "source": [
    "df_dummies = pd.get_dummies(dataset, columns=dataset.select_dtypes(include='category').columns)\n",
    "df_dummies"
   ]
  },
  {
   "cell_type": "code",
   "execution_count": 23,
   "metadata": {},
   "outputs": [
    {
     "data": {
      "text/html": [
       "<div>\n",
       "<style scoped>\n",
       "    .dataframe tbody tr th:only-of-type {\n",
       "        vertical-align: middle;\n",
       "    }\n",
       "\n",
       "    .dataframe tbody tr th {\n",
       "        vertical-align: top;\n",
       "    }\n",
       "\n",
       "    .dataframe thead th {\n",
       "        text-align: right;\n",
       "    }\n",
       "</style>\n",
       "<table border=\"1\" class=\"dataframe\">\n",
       "  <thead>\n",
       "    <tr style=\"text-align: right;\">\n",
       "      <th></th>\n",
       "      <th>IDADEMAE</th>\n",
       "      <th>QTDFILVIVO</th>\n",
       "      <th>QTDFILMORT</th>\n",
       "      <th>ano_nasc</th>\n",
       "      <th>APGAR1</th>\n",
       "      <th>APGAR5</th>\n",
       "      <th>PESO</th>\n",
       "      <th>QTDGESTANT</th>\n",
       "      <th>CONSPRENAT</th>\n",
       "      <th>MESPRENAT</th>\n",
       "      <th>...</th>\n",
       "      <th>nasc_SIGLA_UF_RN</th>\n",
       "      <th>nasc_SIGLA_UF_RO</th>\n",
       "      <th>nasc_SIGLA_UF_RR</th>\n",
       "      <th>nasc_SIGLA_UF_RS</th>\n",
       "      <th>nasc_SIGLA_UF_SC</th>\n",
       "      <th>nasc_SIGLA_UF_SE</th>\n",
       "      <th>nasc_SIGLA_UF_SP</th>\n",
       "      <th>nasc_SIGLA_UF_TO</th>\n",
       "      <th>def_parto_prematuro_Prematuro</th>\n",
       "      <th>def_parto_prematuro_Termo</th>\n",
       "    </tr>\n",
       "  </thead>\n",
       "  <tbody>\n",
       "    <tr>\n",
       "      <th>0</th>\n",
       "      <td>31</td>\n",
       "      <td>1</td>\n",
       "      <td>0</td>\n",
       "      <td>2019</td>\n",
       "      <td>9</td>\n",
       "      <td>10</td>\n",
       "      <td>3420</td>\n",
       "      <td>1</td>\n",
       "      <td>8</td>\n",
       "      <td>1</td>\n",
       "      <td>...</td>\n",
       "      <td>0</td>\n",
       "      <td>1</td>\n",
       "      <td>0</td>\n",
       "      <td>0</td>\n",
       "      <td>0</td>\n",
       "      <td>0</td>\n",
       "      <td>0</td>\n",
       "      <td>0</td>\n",
       "      <td>0</td>\n",
       "      <td>1</td>\n",
       "    </tr>\n",
       "    <tr>\n",
       "      <th>1</th>\n",
       "      <td>34</td>\n",
       "      <td>1</td>\n",
       "      <td>0</td>\n",
       "      <td>2019</td>\n",
       "      <td>10</td>\n",
       "      <td>10</td>\n",
       "      <td>3115</td>\n",
       "      <td>1</td>\n",
       "      <td>8</td>\n",
       "      <td>2</td>\n",
       "      <td>...</td>\n",
       "      <td>0</td>\n",
       "      <td>1</td>\n",
       "      <td>0</td>\n",
       "      <td>0</td>\n",
       "      <td>0</td>\n",
       "      <td>0</td>\n",
       "      <td>0</td>\n",
       "      <td>0</td>\n",
       "      <td>0</td>\n",
       "      <td>1</td>\n",
       "    </tr>\n",
       "    <tr>\n",
       "      <th>2</th>\n",
       "      <td>35</td>\n",
       "      <td>1</td>\n",
       "      <td>0</td>\n",
       "      <td>2019</td>\n",
       "      <td>8</td>\n",
       "      <td>9</td>\n",
       "      <td>3605</td>\n",
       "      <td>1</td>\n",
       "      <td>10</td>\n",
       "      <td>3</td>\n",
       "      <td>...</td>\n",
       "      <td>0</td>\n",
       "      <td>1</td>\n",
       "      <td>0</td>\n",
       "      <td>0</td>\n",
       "      <td>0</td>\n",
       "      <td>0</td>\n",
       "      <td>0</td>\n",
       "      <td>0</td>\n",
       "      <td>0</td>\n",
       "      <td>1</td>\n",
       "    </tr>\n",
       "    <tr>\n",
       "      <th>3</th>\n",
       "      <td>23</td>\n",
       "      <td>4</td>\n",
       "      <td>0</td>\n",
       "      <td>2019</td>\n",
       "      <td>9</td>\n",
       "      <td>10</td>\n",
       "      <td>3170</td>\n",
       "      <td>4</td>\n",
       "      <td>2</td>\n",
       "      <td>7</td>\n",
       "      <td>...</td>\n",
       "      <td>0</td>\n",
       "      <td>1</td>\n",
       "      <td>0</td>\n",
       "      <td>0</td>\n",
       "      <td>0</td>\n",
       "      <td>0</td>\n",
       "      <td>0</td>\n",
       "      <td>0</td>\n",
       "      <td>0</td>\n",
       "      <td>1</td>\n",
       "    </tr>\n",
       "    <tr>\n",
       "      <th>4</th>\n",
       "      <td>27</td>\n",
       "      <td>1</td>\n",
       "      <td>0</td>\n",
       "      <td>2019</td>\n",
       "      <td>8</td>\n",
       "      <td>9</td>\n",
       "      <td>3115</td>\n",
       "      <td>1</td>\n",
       "      <td>8</td>\n",
       "      <td>3</td>\n",
       "      <td>...</td>\n",
       "      <td>0</td>\n",
       "      <td>1</td>\n",
       "      <td>0</td>\n",
       "      <td>0</td>\n",
       "      <td>0</td>\n",
       "      <td>0</td>\n",
       "      <td>0</td>\n",
       "      <td>0</td>\n",
       "      <td>0</td>\n",
       "      <td>1</td>\n",
       "    </tr>\n",
       "    <tr>\n",
       "      <th>...</th>\n",
       "      <td>...</td>\n",
       "      <td>...</td>\n",
       "      <td>...</td>\n",
       "      <td>...</td>\n",
       "      <td>...</td>\n",
       "      <td>...</td>\n",
       "      <td>...</td>\n",
       "      <td>...</td>\n",
       "      <td>...</td>\n",
       "      <td>...</td>\n",
       "      <td>...</td>\n",
       "      <td>...</td>\n",
       "      <td>...</td>\n",
       "      <td>...</td>\n",
       "      <td>...</td>\n",
       "      <td>...</td>\n",
       "      <td>...</td>\n",
       "      <td>...</td>\n",
       "      <td>...</td>\n",
       "      <td>...</td>\n",
       "      <td>...</td>\n",
       "    </tr>\n",
       "    <tr>\n",
       "      <th>4407231</th>\n",
       "      <td>29</td>\n",
       "      <td>1</td>\n",
       "      <td>1</td>\n",
       "      <td>2020</td>\n",
       "      <td>9</td>\n",
       "      <td>10</td>\n",
       "      <td>3130</td>\n",
       "      <td>2</td>\n",
       "      <td>8</td>\n",
       "      <td>2</td>\n",
       "      <td>...</td>\n",
       "      <td>0</td>\n",
       "      <td>0</td>\n",
       "      <td>0</td>\n",
       "      <td>0</td>\n",
       "      <td>0</td>\n",
       "      <td>0</td>\n",
       "      <td>0</td>\n",
       "      <td>0</td>\n",
       "      <td>0</td>\n",
       "      <td>1</td>\n",
       "    </tr>\n",
       "    <tr>\n",
       "      <th>4407232</th>\n",
       "      <td>33</td>\n",
       "      <td>3</td>\n",
       "      <td>0</td>\n",
       "      <td>2020</td>\n",
       "      <td>9</td>\n",
       "      <td>10</td>\n",
       "      <td>3520</td>\n",
       "      <td>3</td>\n",
       "      <td>7</td>\n",
       "      <td>3</td>\n",
       "      <td>...</td>\n",
       "      <td>0</td>\n",
       "      <td>0</td>\n",
       "      <td>0</td>\n",
       "      <td>0</td>\n",
       "      <td>0</td>\n",
       "      <td>0</td>\n",
       "      <td>0</td>\n",
       "      <td>0</td>\n",
       "      <td>0</td>\n",
       "      <td>1</td>\n",
       "    </tr>\n",
       "    <tr>\n",
       "      <th>4407233</th>\n",
       "      <td>30</td>\n",
       "      <td>2</td>\n",
       "      <td>0</td>\n",
       "      <td>2020</td>\n",
       "      <td>7</td>\n",
       "      <td>8</td>\n",
       "      <td>1408</td>\n",
       "      <td>2</td>\n",
       "      <td>11</td>\n",
       "      <td>2</td>\n",
       "      <td>...</td>\n",
       "      <td>0</td>\n",
       "      <td>0</td>\n",
       "      <td>0</td>\n",
       "      <td>0</td>\n",
       "      <td>0</td>\n",
       "      <td>0</td>\n",
       "      <td>0</td>\n",
       "      <td>0</td>\n",
       "      <td>1</td>\n",
       "      <td>0</td>\n",
       "    </tr>\n",
       "    <tr>\n",
       "      <th>4407234</th>\n",
       "      <td>21</td>\n",
       "      <td>1</td>\n",
       "      <td>1</td>\n",
       "      <td>2020</td>\n",
       "      <td>8</td>\n",
       "      <td>9</td>\n",
       "      <td>2925</td>\n",
       "      <td>2</td>\n",
       "      <td>6</td>\n",
       "      <td>3</td>\n",
       "      <td>...</td>\n",
       "      <td>0</td>\n",
       "      <td>0</td>\n",
       "      <td>0</td>\n",
       "      <td>0</td>\n",
       "      <td>0</td>\n",
       "      <td>0</td>\n",
       "      <td>0</td>\n",
       "      <td>0</td>\n",
       "      <td>0</td>\n",
       "      <td>1</td>\n",
       "    </tr>\n",
       "    <tr>\n",
       "      <th>4407235</th>\n",
       "      <td>26</td>\n",
       "      <td>1</td>\n",
       "      <td>0</td>\n",
       "      <td>2020</td>\n",
       "      <td>9</td>\n",
       "      <td>10</td>\n",
       "      <td>3245</td>\n",
       "      <td>1</td>\n",
       "      <td>7</td>\n",
       "      <td>3</td>\n",
       "      <td>...</td>\n",
       "      <td>0</td>\n",
       "      <td>0</td>\n",
       "      <td>0</td>\n",
       "      <td>0</td>\n",
       "      <td>0</td>\n",
       "      <td>0</td>\n",
       "      <td>0</td>\n",
       "      <td>0</td>\n",
       "      <td>0</td>\n",
       "      <td>1</td>\n",
       "    </tr>\n",
       "  </tbody>\n",
       "</table>\n",
       "<p>4407236 rows × 110 columns</p>\n",
       "</div>"
      ],
      "text/plain": [
       "         IDADEMAE  QTDFILVIVO  QTDFILMORT  ano_nasc  APGAR1  APGAR5  PESO  \\\n",
       "0              31           1           0      2019       9      10  3420   \n",
       "1              34           1           0      2019      10      10  3115   \n",
       "2              35           1           0      2019       8       9  3605   \n",
       "3              23           4           0      2019       9      10  3170   \n",
       "4              27           1           0      2019       8       9  3115   \n",
       "...           ...         ...         ...       ...     ...     ...   ...   \n",
       "4407231        29           1           1      2020       9      10  3130   \n",
       "4407232        33           3           0      2020       9      10  3520   \n",
       "4407233        30           2           0      2020       7       8  1408   \n",
       "4407234        21           1           1      2020       8       9  2925   \n",
       "4407235        26           1           0      2020       9      10  3245   \n",
       "\n",
       "         QTDGESTANT  CONSPRENAT  MESPRENAT  ...  nasc_SIGLA_UF_RN  \\\n",
       "0                 1           8          1  ...                 0   \n",
       "1                 1           8          2  ...                 0   \n",
       "2                 1          10          3  ...                 0   \n",
       "3                 4           2          7  ...                 0   \n",
       "4                 1           8          3  ...                 0   \n",
       "...             ...         ...        ...  ...               ...   \n",
       "4407231           2           8          2  ...                 0   \n",
       "4407232           3           7          3  ...                 0   \n",
       "4407233           2          11          2  ...                 0   \n",
       "4407234           2           6          3  ...                 0   \n",
       "4407235           1           7          3  ...                 0   \n",
       "\n",
       "         nasc_SIGLA_UF_RO  nasc_SIGLA_UF_RR  nasc_SIGLA_UF_RS  \\\n",
       "0                       1                 0                 0   \n",
       "1                       1                 0                 0   \n",
       "2                       1                 0                 0   \n",
       "3                       1                 0                 0   \n",
       "4                       1                 0                 0   \n",
       "...                   ...               ...               ...   \n",
       "4407231                 0                 0                 0   \n",
       "4407232                 0                 0                 0   \n",
       "4407233                 0                 0                 0   \n",
       "4407234                 0                 0                 0   \n",
       "4407235                 0                 0                 0   \n",
       "\n",
       "         nasc_SIGLA_UF_SC  nasc_SIGLA_UF_SE  nasc_SIGLA_UF_SP  \\\n",
       "0                       0                 0                 0   \n",
       "1                       0                 0                 0   \n",
       "2                       0                 0                 0   \n",
       "3                       0                 0                 0   \n",
       "4                       0                 0                 0   \n",
       "...                   ...               ...               ...   \n",
       "4407231                 0                 0                 0   \n",
       "4407232                 0                 0                 0   \n",
       "4407233                 0                 0                 0   \n",
       "4407234                 0                 0                 0   \n",
       "4407235                 0                 0                 0   \n",
       "\n",
       "         nasc_SIGLA_UF_TO  def_parto_prematuro_Prematuro  \\\n",
       "0                       0                              0   \n",
       "1                       0                              0   \n",
       "2                       0                              0   \n",
       "3                       0                              0   \n",
       "4                       0                              0   \n",
       "...                   ...                            ...   \n",
       "4407231                 0                              0   \n",
       "4407232                 0                              0   \n",
       "4407233                 0                              1   \n",
       "4407234                 0                              0   \n",
       "4407235                 0                              0   \n",
       "\n",
       "         def_parto_prematuro_Termo  \n",
       "0                                1  \n",
       "1                                1  \n",
       "2                                1  \n",
       "3                                1  \n",
       "4                                1  \n",
       "...                            ...  \n",
       "4407231                          1  \n",
       "4407232                          1  \n",
       "4407233                          0  \n",
       "4407234                          1  \n",
       "4407235                          1  \n",
       "\n",
       "[4407236 rows x 110 columns]"
      ]
     },
     "execution_count": 23,
     "metadata": {},
     "output_type": "execute_result"
    }
   ],
   "source": [
    "dataset = df_dummies\n",
    "dataset"
   ]
  },
  {
   "cell_type": "code",
   "execution_count": 24,
   "metadata": {},
   "outputs": [],
   "source": [
    "dataset.mf = dataset.mf.astype(int)"
   ]
  },
  {
   "cell_type": "code",
   "execution_count": 25,
   "metadata": {},
   "outputs": [
    {
     "data": {
      "text/html": [
       "<div>\n",
       "<style scoped>\n",
       "    .dataframe tbody tr th:only-of-type {\n",
       "        vertical-align: middle;\n",
       "    }\n",
       "\n",
       "    .dataframe tbody tr th {\n",
       "        vertical-align: top;\n",
       "    }\n",
       "\n",
       "    .dataframe thead th {\n",
       "        text-align: right;\n",
       "    }\n",
       "</style>\n",
       "<table border=\"1\" class=\"dataframe\">\n",
       "  <thead>\n",
       "    <tr style=\"text-align: right;\">\n",
       "      <th></th>\n",
       "      <th>IDADEMAE</th>\n",
       "      <th>QTDFILVIVO</th>\n",
       "      <th>QTDFILMORT</th>\n",
       "      <th>ano_nasc</th>\n",
       "      <th>APGAR1</th>\n",
       "      <th>APGAR5</th>\n",
       "      <th>PESO</th>\n",
       "      <th>QTDGESTANT</th>\n",
       "      <th>CONSPRENAT</th>\n",
       "      <th>MESPRENAT</th>\n",
       "      <th>...</th>\n",
       "      <th>nasc_SIGLA_UF_RN</th>\n",
       "      <th>nasc_SIGLA_UF_RO</th>\n",
       "      <th>nasc_SIGLA_UF_RR</th>\n",
       "      <th>nasc_SIGLA_UF_RS</th>\n",
       "      <th>nasc_SIGLA_UF_SC</th>\n",
       "      <th>nasc_SIGLA_UF_SE</th>\n",
       "      <th>nasc_SIGLA_UF_SP</th>\n",
       "      <th>nasc_SIGLA_UF_TO</th>\n",
       "      <th>def_parto_prematuro_Prematuro</th>\n",
       "      <th>def_parto_prematuro_Termo</th>\n",
       "    </tr>\n",
       "  </thead>\n",
       "  <tbody>\n",
       "    <tr>\n",
       "      <th>0</th>\n",
       "      <td>31</td>\n",
       "      <td>1</td>\n",
       "      <td>0</td>\n",
       "      <td>2019</td>\n",
       "      <td>9</td>\n",
       "      <td>10</td>\n",
       "      <td>3420</td>\n",
       "      <td>1</td>\n",
       "      <td>8</td>\n",
       "      <td>1</td>\n",
       "      <td>...</td>\n",
       "      <td>0</td>\n",
       "      <td>1</td>\n",
       "      <td>0</td>\n",
       "      <td>0</td>\n",
       "      <td>0</td>\n",
       "      <td>0</td>\n",
       "      <td>0</td>\n",
       "      <td>0</td>\n",
       "      <td>0</td>\n",
       "      <td>1</td>\n",
       "    </tr>\n",
       "    <tr>\n",
       "      <th>1</th>\n",
       "      <td>34</td>\n",
       "      <td>1</td>\n",
       "      <td>0</td>\n",
       "      <td>2019</td>\n",
       "      <td>10</td>\n",
       "      <td>10</td>\n",
       "      <td>3115</td>\n",
       "      <td>1</td>\n",
       "      <td>8</td>\n",
       "      <td>2</td>\n",
       "      <td>...</td>\n",
       "      <td>0</td>\n",
       "      <td>1</td>\n",
       "      <td>0</td>\n",
       "      <td>0</td>\n",
       "      <td>0</td>\n",
       "      <td>0</td>\n",
       "      <td>0</td>\n",
       "      <td>0</td>\n",
       "      <td>0</td>\n",
       "      <td>1</td>\n",
       "    </tr>\n",
       "    <tr>\n",
       "      <th>2</th>\n",
       "      <td>35</td>\n",
       "      <td>1</td>\n",
       "      <td>0</td>\n",
       "      <td>2019</td>\n",
       "      <td>8</td>\n",
       "      <td>9</td>\n",
       "      <td>3605</td>\n",
       "      <td>1</td>\n",
       "      <td>10</td>\n",
       "      <td>3</td>\n",
       "      <td>...</td>\n",
       "      <td>0</td>\n",
       "      <td>1</td>\n",
       "      <td>0</td>\n",
       "      <td>0</td>\n",
       "      <td>0</td>\n",
       "      <td>0</td>\n",
       "      <td>0</td>\n",
       "      <td>0</td>\n",
       "      <td>0</td>\n",
       "      <td>1</td>\n",
       "    </tr>\n",
       "    <tr>\n",
       "      <th>3</th>\n",
       "      <td>23</td>\n",
       "      <td>4</td>\n",
       "      <td>0</td>\n",
       "      <td>2019</td>\n",
       "      <td>9</td>\n",
       "      <td>10</td>\n",
       "      <td>3170</td>\n",
       "      <td>4</td>\n",
       "      <td>2</td>\n",
       "      <td>7</td>\n",
       "      <td>...</td>\n",
       "      <td>0</td>\n",
       "      <td>1</td>\n",
       "      <td>0</td>\n",
       "      <td>0</td>\n",
       "      <td>0</td>\n",
       "      <td>0</td>\n",
       "      <td>0</td>\n",
       "      <td>0</td>\n",
       "      <td>0</td>\n",
       "      <td>1</td>\n",
       "    </tr>\n",
       "    <tr>\n",
       "      <th>4</th>\n",
       "      <td>27</td>\n",
       "      <td>1</td>\n",
       "      <td>0</td>\n",
       "      <td>2019</td>\n",
       "      <td>8</td>\n",
       "      <td>9</td>\n",
       "      <td>3115</td>\n",
       "      <td>1</td>\n",
       "      <td>8</td>\n",
       "      <td>3</td>\n",
       "      <td>...</td>\n",
       "      <td>0</td>\n",
       "      <td>1</td>\n",
       "      <td>0</td>\n",
       "      <td>0</td>\n",
       "      <td>0</td>\n",
       "      <td>0</td>\n",
       "      <td>0</td>\n",
       "      <td>0</td>\n",
       "      <td>0</td>\n",
       "      <td>1</td>\n",
       "    </tr>\n",
       "    <tr>\n",
       "      <th>...</th>\n",
       "      <td>...</td>\n",
       "      <td>...</td>\n",
       "      <td>...</td>\n",
       "      <td>...</td>\n",
       "      <td>...</td>\n",
       "      <td>...</td>\n",
       "      <td>...</td>\n",
       "      <td>...</td>\n",
       "      <td>...</td>\n",
       "      <td>...</td>\n",
       "      <td>...</td>\n",
       "      <td>...</td>\n",
       "      <td>...</td>\n",
       "      <td>...</td>\n",
       "      <td>...</td>\n",
       "      <td>...</td>\n",
       "      <td>...</td>\n",
       "      <td>...</td>\n",
       "      <td>...</td>\n",
       "      <td>...</td>\n",
       "      <td>...</td>\n",
       "    </tr>\n",
       "    <tr>\n",
       "      <th>4407231</th>\n",
       "      <td>29</td>\n",
       "      <td>1</td>\n",
       "      <td>1</td>\n",
       "      <td>2020</td>\n",
       "      <td>9</td>\n",
       "      <td>10</td>\n",
       "      <td>3130</td>\n",
       "      <td>2</td>\n",
       "      <td>8</td>\n",
       "      <td>2</td>\n",
       "      <td>...</td>\n",
       "      <td>0</td>\n",
       "      <td>0</td>\n",
       "      <td>0</td>\n",
       "      <td>0</td>\n",
       "      <td>0</td>\n",
       "      <td>0</td>\n",
       "      <td>0</td>\n",
       "      <td>0</td>\n",
       "      <td>0</td>\n",
       "      <td>1</td>\n",
       "    </tr>\n",
       "    <tr>\n",
       "      <th>4407232</th>\n",
       "      <td>33</td>\n",
       "      <td>3</td>\n",
       "      <td>0</td>\n",
       "      <td>2020</td>\n",
       "      <td>9</td>\n",
       "      <td>10</td>\n",
       "      <td>3520</td>\n",
       "      <td>3</td>\n",
       "      <td>7</td>\n",
       "      <td>3</td>\n",
       "      <td>...</td>\n",
       "      <td>0</td>\n",
       "      <td>0</td>\n",
       "      <td>0</td>\n",
       "      <td>0</td>\n",
       "      <td>0</td>\n",
       "      <td>0</td>\n",
       "      <td>0</td>\n",
       "      <td>0</td>\n",
       "      <td>0</td>\n",
       "      <td>1</td>\n",
       "    </tr>\n",
       "    <tr>\n",
       "      <th>4407233</th>\n",
       "      <td>30</td>\n",
       "      <td>2</td>\n",
       "      <td>0</td>\n",
       "      <td>2020</td>\n",
       "      <td>7</td>\n",
       "      <td>8</td>\n",
       "      <td>1408</td>\n",
       "      <td>2</td>\n",
       "      <td>11</td>\n",
       "      <td>2</td>\n",
       "      <td>...</td>\n",
       "      <td>0</td>\n",
       "      <td>0</td>\n",
       "      <td>0</td>\n",
       "      <td>0</td>\n",
       "      <td>0</td>\n",
       "      <td>0</td>\n",
       "      <td>0</td>\n",
       "      <td>0</td>\n",
       "      <td>1</td>\n",
       "      <td>0</td>\n",
       "    </tr>\n",
       "    <tr>\n",
       "      <th>4407234</th>\n",
       "      <td>21</td>\n",
       "      <td>1</td>\n",
       "      <td>1</td>\n",
       "      <td>2020</td>\n",
       "      <td>8</td>\n",
       "      <td>9</td>\n",
       "      <td>2925</td>\n",
       "      <td>2</td>\n",
       "      <td>6</td>\n",
       "      <td>3</td>\n",
       "      <td>...</td>\n",
       "      <td>0</td>\n",
       "      <td>0</td>\n",
       "      <td>0</td>\n",
       "      <td>0</td>\n",
       "      <td>0</td>\n",
       "      <td>0</td>\n",
       "      <td>0</td>\n",
       "      <td>0</td>\n",
       "      <td>0</td>\n",
       "      <td>1</td>\n",
       "    </tr>\n",
       "    <tr>\n",
       "      <th>4407235</th>\n",
       "      <td>26</td>\n",
       "      <td>1</td>\n",
       "      <td>0</td>\n",
       "      <td>2020</td>\n",
       "      <td>9</td>\n",
       "      <td>10</td>\n",
       "      <td>3245</td>\n",
       "      <td>1</td>\n",
       "      <td>7</td>\n",
       "      <td>3</td>\n",
       "      <td>...</td>\n",
       "      <td>0</td>\n",
       "      <td>0</td>\n",
       "      <td>0</td>\n",
       "      <td>0</td>\n",
       "      <td>0</td>\n",
       "      <td>0</td>\n",
       "      <td>0</td>\n",
       "      <td>0</td>\n",
       "      <td>0</td>\n",
       "      <td>1</td>\n",
       "    </tr>\n",
       "  </tbody>\n",
       "</table>\n",
       "<p>4407236 rows × 110 columns</p>\n",
       "</div>"
      ],
      "text/plain": [
       "         IDADEMAE  QTDFILVIVO  QTDFILMORT  ano_nasc  APGAR1  APGAR5  PESO  \\\n",
       "0              31           1           0      2019       9      10  3420   \n",
       "1              34           1           0      2019      10      10  3115   \n",
       "2              35           1           0      2019       8       9  3605   \n",
       "3              23           4           0      2019       9      10  3170   \n",
       "4              27           1           0      2019       8       9  3115   \n",
       "...           ...         ...         ...       ...     ...     ...   ...   \n",
       "4407231        29           1           1      2020       9      10  3130   \n",
       "4407232        33           3           0      2020       9      10  3520   \n",
       "4407233        30           2           0      2020       7       8  1408   \n",
       "4407234        21           1           1      2020       8       9  2925   \n",
       "4407235        26           1           0      2020       9      10  3245   \n",
       "\n",
       "         QTDGESTANT  CONSPRENAT  MESPRENAT  ...  nasc_SIGLA_UF_RN  \\\n",
       "0                 1           8          1  ...                 0   \n",
       "1                 1           8          2  ...                 0   \n",
       "2                 1          10          3  ...                 0   \n",
       "3                 4           2          7  ...                 0   \n",
       "4                 1           8          3  ...                 0   \n",
       "...             ...         ...        ...  ...               ...   \n",
       "4407231           2           8          2  ...                 0   \n",
       "4407232           3           7          3  ...                 0   \n",
       "4407233           2          11          2  ...                 0   \n",
       "4407234           2           6          3  ...                 0   \n",
       "4407235           1           7          3  ...                 0   \n",
       "\n",
       "         nasc_SIGLA_UF_RO  nasc_SIGLA_UF_RR  nasc_SIGLA_UF_RS  \\\n",
       "0                       1                 0                 0   \n",
       "1                       1                 0                 0   \n",
       "2                       1                 0                 0   \n",
       "3                       1                 0                 0   \n",
       "4                       1                 0                 0   \n",
       "...                   ...               ...               ...   \n",
       "4407231                 0                 0                 0   \n",
       "4407232                 0                 0                 0   \n",
       "4407233                 0                 0                 0   \n",
       "4407234                 0                 0                 0   \n",
       "4407235                 0                 0                 0   \n",
       "\n",
       "         nasc_SIGLA_UF_SC  nasc_SIGLA_UF_SE  nasc_SIGLA_UF_SP  \\\n",
       "0                       0                 0                 0   \n",
       "1                       0                 0                 0   \n",
       "2                       0                 0                 0   \n",
       "3                       0                 0                 0   \n",
       "4                       0                 0                 0   \n",
       "...                   ...               ...               ...   \n",
       "4407231                 0                 0                 0   \n",
       "4407232                 0                 0                 0   \n",
       "4407233                 0                 0                 0   \n",
       "4407234                 0                 0                 0   \n",
       "4407235                 0                 0                 0   \n",
       "\n",
       "         nasc_SIGLA_UF_TO  def_parto_prematuro_Prematuro  \\\n",
       "0                       0                              0   \n",
       "1                       0                              0   \n",
       "2                       0                              0   \n",
       "3                       0                              0   \n",
       "4                       0                              0   \n",
       "...                   ...                            ...   \n",
       "4407231                 0                              0   \n",
       "4407232                 0                              0   \n",
       "4407233                 0                              1   \n",
       "4407234                 0                              0   \n",
       "4407235                 0                              0   \n",
       "\n",
       "         def_parto_prematuro_Termo  \n",
       "0                                1  \n",
       "1                                1  \n",
       "2                                1  \n",
       "3                                1  \n",
       "4                                1  \n",
       "...                            ...  \n",
       "4407231                          1  \n",
       "4407232                          1  \n",
       "4407233                          0  \n",
       "4407234                          1  \n",
       "4407235                          1  \n",
       "\n",
       "[4407236 rows x 110 columns]"
      ]
     },
     "execution_count": 25,
     "metadata": {},
     "output_type": "execute_result"
    }
   ],
   "source": [
    "dataset"
   ]
  },
  {
   "cell_type": "code",
   "execution_count": 26,
   "metadata": {},
   "outputs": [
    {
     "data": {
      "text/plain": [
       "0    4371281\n",
       "1      35955\n",
       "Name: mf, dtype: int64"
      ]
     },
     "execution_count": 26,
     "metadata": {},
     "output_type": "execute_result"
    }
   ],
   "source": [
    "# Verificando se a variável resposta está balanceada\n",
    "target_count = dataset.mf.value_counts()\n",
    "target_count"
   ]
  },
  {
   "cell_type": "code",
   "execution_count": 27,
   "metadata": {},
   "outputs": [
    {
     "data": {
      "image/png": "[encoded data removed]",
      "text/plain": [
       "<Figure size 1152x288 with 1 Axes>"
      ]
     },
     "metadata": {
      "needs_background": "light"
     },
     "output_type": "display_data"
    }
   ],
   "source": [
    "# Plot \n",
    "sns.countplot(dataset.mf, palette = \"OrRd\")\n",
    "plt.box(False)\n",
    "plt.xlabel('Não (0) / Sim (1)', fontsize = 11)\n",
    "plt.ylabel('Total Pacientes', fontsize = 11)\n",
    "plt.title('Contagem de Classes\\n')\n",
    "plt.show()"
   ]
  },
  {
   "cell_type": "code",
   "execution_count": 28,
   "metadata": {},
   "outputs": [
    {
     "data": {
      "text/html": [
       "<div>\n",
       "<style scoped>\n",
       "    .dataframe tbody tr th:only-of-type {\n",
       "        vertical-align: middle;\n",
       "    }\n",
       "\n",
       "    .dataframe tbody tr th {\n",
       "        vertical-align: top;\n",
       "    }\n",
       "\n",
       "    .dataframe thead th {\n",
       "        text-align: right;\n",
       "    }\n",
       "</style>\n",
       "<table border=\"1\" class=\"dataframe\">\n",
       "  <thead>\n",
       "    <tr style=\"text-align: right;\">\n",
       "      <th></th>\n",
       "      <th>IDADEMAE</th>\n",
       "      <th>QTDFILVIVO</th>\n",
       "      <th>QTDFILMORT</th>\n",
       "      <th>ano_nasc</th>\n",
       "      <th>APGAR1</th>\n",
       "      <th>APGAR5</th>\n",
       "      <th>PESO</th>\n",
       "      <th>QTDGESTANT</th>\n",
       "      <th>CONSPRENAT</th>\n",
       "      <th>MESPRENAT</th>\n",
       "      <th>...</th>\n",
       "      <th>nasc_SIGLA_UF_RN</th>\n",
       "      <th>nasc_SIGLA_UF_RO</th>\n",
       "      <th>nasc_SIGLA_UF_RR</th>\n",
       "      <th>nasc_SIGLA_UF_RS</th>\n",
       "      <th>nasc_SIGLA_UF_SC</th>\n",
       "      <th>nasc_SIGLA_UF_SE</th>\n",
       "      <th>nasc_SIGLA_UF_SP</th>\n",
       "      <th>nasc_SIGLA_UF_TO</th>\n",
       "      <th>def_parto_prematuro_Prematuro</th>\n",
       "      <th>def_parto_prematuro_Termo</th>\n",
       "    </tr>\n",
       "  </thead>\n",
       "  <tbody>\n",
       "    <tr>\n",
       "      <th>0</th>\n",
       "      <td>31</td>\n",
       "      <td>1</td>\n",
       "      <td>0</td>\n",
       "      <td>2019</td>\n",
       "      <td>9</td>\n",
       "      <td>10</td>\n",
       "      <td>3420</td>\n",
       "      <td>1</td>\n",
       "      <td>8</td>\n",
       "      <td>1</td>\n",
       "      <td>...</td>\n",
       "      <td>0</td>\n",
       "      <td>1</td>\n",
       "      <td>0</td>\n",
       "      <td>0</td>\n",
       "      <td>0</td>\n",
       "      <td>0</td>\n",
       "      <td>0</td>\n",
       "      <td>0</td>\n",
       "      <td>0</td>\n",
       "      <td>1</td>\n",
       "    </tr>\n",
       "    <tr>\n",
       "      <th>1</th>\n",
       "      <td>34</td>\n",
       "      <td>1</td>\n",
       "      <td>0</td>\n",
       "      <td>2019</td>\n",
       "      <td>10</td>\n",
       "      <td>10</td>\n",
       "      <td>3115</td>\n",
       "      <td>1</td>\n",
       "      <td>8</td>\n",
       "      <td>2</td>\n",
       "      <td>...</td>\n",
       "      <td>0</td>\n",
       "      <td>1</td>\n",
       "      <td>0</td>\n",
       "      <td>0</td>\n",
       "      <td>0</td>\n",
       "      <td>0</td>\n",
       "      <td>0</td>\n",
       "      <td>0</td>\n",
       "      <td>0</td>\n",
       "      <td>1</td>\n",
       "    </tr>\n",
       "    <tr>\n",
       "      <th>2</th>\n",
       "      <td>35</td>\n",
       "      <td>1</td>\n",
       "      <td>0</td>\n",
       "      <td>2019</td>\n",
       "      <td>8</td>\n",
       "      <td>9</td>\n",
       "      <td>3605</td>\n",
       "      <td>1</td>\n",
       "      <td>10</td>\n",
       "      <td>3</td>\n",
       "      <td>...</td>\n",
       "      <td>0</td>\n",
       "      <td>1</td>\n",
       "      <td>0</td>\n",
       "      <td>0</td>\n",
       "      <td>0</td>\n",
       "      <td>0</td>\n",
       "      <td>0</td>\n",
       "      <td>0</td>\n",
       "      <td>0</td>\n",
       "      <td>1</td>\n",
       "    </tr>\n",
       "    <tr>\n",
       "      <th>3</th>\n",
       "      <td>23</td>\n",
       "      <td>4</td>\n",
       "      <td>0</td>\n",
       "      <td>2019</td>\n",
       "      <td>9</td>\n",
       "      <td>10</td>\n",
       "      <td>3170</td>\n",
       "      <td>4</td>\n",
       "      <td>2</td>\n",
       "      <td>7</td>\n",
       "      <td>...</td>\n",
       "      <td>0</td>\n",
       "      <td>1</td>\n",
       "      <td>0</td>\n",
       "      <td>0</td>\n",
       "      <td>0</td>\n",
       "      <td>0</td>\n",
       "      <td>0</td>\n",
       "      <td>0</td>\n",
       "      <td>0</td>\n",
       "      <td>1</td>\n",
       "    </tr>\n",
       "    <tr>\n",
       "      <th>4</th>\n",
       "      <td>27</td>\n",
       "      <td>1</td>\n",
       "      <td>0</td>\n",
       "      <td>2019</td>\n",
       "      <td>8</td>\n",
       "      <td>9</td>\n",
       "      <td>3115</td>\n",
       "      <td>1</td>\n",
       "      <td>8</td>\n",
       "      <td>3</td>\n",
       "      <td>...</td>\n",
       "      <td>0</td>\n",
       "      <td>1</td>\n",
       "      <td>0</td>\n",
       "      <td>0</td>\n",
       "      <td>0</td>\n",
       "      <td>0</td>\n",
       "      <td>0</td>\n",
       "      <td>0</td>\n",
       "      <td>0</td>\n",
       "      <td>1</td>\n",
       "    </tr>\n",
       "    <tr>\n",
       "      <th>...</th>\n",
       "      <td>...</td>\n",
       "      <td>...</td>\n",
       "      <td>...</td>\n",
       "      <td>...</td>\n",
       "      <td>...</td>\n",
       "      <td>...</td>\n",
       "      <td>...</td>\n",
       "      <td>...</td>\n",
       "      <td>...</td>\n",
       "      <td>...</td>\n",
       "      <td>...</td>\n",
       "      <td>...</td>\n",
       "      <td>...</td>\n",
       "      <td>...</td>\n",
       "      <td>...</td>\n",
       "      <td>...</td>\n",
       "      <td>...</td>\n",
       "      <td>...</td>\n",
       "      <td>...</td>\n",
       "      <td>...</td>\n",
       "      <td>...</td>\n",
       "    </tr>\n",
       "    <tr>\n",
       "      <th>4407231</th>\n",
       "      <td>29</td>\n",
       "      <td>1</td>\n",
       "      <td>1</td>\n",
       "      <td>2020</td>\n",
       "      <td>9</td>\n",
       "      <td>10</td>\n",
       "      <td>3130</td>\n",
       "      <td>2</td>\n",
       "      <td>8</td>\n",
       "      <td>2</td>\n",
       "      <td>...</td>\n",
       "      <td>0</td>\n",
       "      <td>0</td>\n",
       "      <td>0</td>\n",
       "      <td>0</td>\n",
       "      <td>0</td>\n",
       "      <td>0</td>\n",
       "      <td>0</td>\n",
       "      <td>0</td>\n",
       "      <td>0</td>\n",
       "      <td>1</td>\n",
       "    </tr>\n",
       "    <tr>\n",
       "      <th>4407232</th>\n",
       "      <td>33</td>\n",
       "      <td>3</td>\n",
       "      <td>0</td>\n",
       "      <td>2020</td>\n",
       "      <td>9</td>\n",
       "      <td>10</td>\n",
       "      <td>3520</td>\n",
       "      <td>3</td>\n",
       "      <td>7</td>\n",
       "      <td>3</td>\n",
       "      <td>...</td>\n",
       "      <td>0</td>\n",
       "      <td>0</td>\n",
       "      <td>0</td>\n",
       "      <td>0</td>\n",
       "      <td>0</td>\n",
       "      <td>0</td>\n",
       "      <td>0</td>\n",
       "      <td>0</td>\n",
       "      <td>0</td>\n",
       "      <td>1</td>\n",
       "    </tr>\n",
       "    <tr>\n",
       "      <th>4407233</th>\n",
       "      <td>30</td>\n",
       "      <td>2</td>\n",
       "      <td>0</td>\n",
       "      <td>2020</td>\n",
       "      <td>7</td>\n",
       "      <td>8</td>\n",
       "      <td>1408</td>\n",
       "      <td>2</td>\n",
       "      <td>11</td>\n",
       "      <td>2</td>\n",
       "      <td>...</td>\n",
       "      <td>0</td>\n",
       "      <td>0</td>\n",
       "      <td>0</td>\n",
       "      <td>0</td>\n",
       "      <td>0</td>\n",
       "      <td>0</td>\n",
       "      <td>0</td>\n",
       "      <td>0</td>\n",
       "      <td>1</td>\n",
       "      <td>0</td>\n",
       "    </tr>\n",
       "    <tr>\n",
       "      <th>4407234</th>\n",
       "      <td>21</td>\n",
       "      <td>1</td>\n",
       "      <td>1</td>\n",
       "      <td>2020</td>\n",
       "      <td>8</td>\n",
       "      <td>9</td>\n",
       "      <td>2925</td>\n",
       "      <td>2</td>\n",
       "      <td>6</td>\n",
       "      <td>3</td>\n",
       "      <td>...</td>\n",
       "      <td>0</td>\n",
       "      <td>0</td>\n",
       "      <td>0</td>\n",
       "      <td>0</td>\n",
       "      <td>0</td>\n",
       "      <td>0</td>\n",
       "      <td>0</td>\n",
       "      <td>0</td>\n",
       "      <td>0</td>\n",
       "      <td>1</td>\n",
       "    </tr>\n",
       "    <tr>\n",
       "      <th>4407235</th>\n",
       "      <td>26</td>\n",
       "      <td>1</td>\n",
       "      <td>0</td>\n",
       "      <td>2020</td>\n",
       "      <td>9</td>\n",
       "      <td>10</td>\n",
       "      <td>3245</td>\n",
       "      <td>1</td>\n",
       "      <td>7</td>\n",
       "      <td>3</td>\n",
       "      <td>...</td>\n",
       "      <td>0</td>\n",
       "      <td>0</td>\n",
       "      <td>0</td>\n",
       "      <td>0</td>\n",
       "      <td>0</td>\n",
       "      <td>0</td>\n",
       "      <td>0</td>\n",
       "      <td>0</td>\n",
       "      <td>0</td>\n",
       "      <td>1</td>\n",
       "    </tr>\n",
       "  </tbody>\n",
       "</table>\n",
       "<p>4407236 rows × 109 columns</p>\n",
       "</div>"
      ],
      "text/plain": [
       "         IDADEMAE  QTDFILVIVO  QTDFILMORT  ano_nasc  APGAR1  APGAR5  PESO  \\\n",
       "0              31           1           0      2019       9      10  3420   \n",
       "1              34           1           0      2019      10      10  3115   \n",
       "2              35           1           0      2019       8       9  3605   \n",
       "3              23           4           0      2019       9      10  3170   \n",
       "4              27           1           0      2019       8       9  3115   \n",
       "...           ...         ...         ...       ...     ...     ...   ...   \n",
       "4407231        29           1           1      2020       9      10  3130   \n",
       "4407232        33           3           0      2020       9      10  3520   \n",
       "4407233        30           2           0      2020       7       8  1408   \n",
       "4407234        21           1           1      2020       8       9  2925   \n",
       "4407235        26           1           0      2020       9      10  3245   \n",
       "\n",
       "         QTDGESTANT  CONSPRENAT  MESPRENAT  ...  nasc_SIGLA_UF_RN  \\\n",
       "0                 1           8          1  ...                 0   \n",
       "1                 1           8          2  ...                 0   \n",
       "2                 1          10          3  ...                 0   \n",
       "3                 4           2          7  ...                 0   \n",
       "4                 1           8          3  ...                 0   \n",
       "...             ...         ...        ...  ...               ...   \n",
       "4407231           2           8          2  ...                 0   \n",
       "4407232           3           7          3  ...                 0   \n",
       "4407233           2          11          2  ...                 0   \n",
       "4407234           2           6          3  ...                 0   \n",
       "4407235           1           7          3  ...                 0   \n",
       "\n",
       "         nasc_SIGLA_UF_RO  nasc_SIGLA_UF_RR  nasc_SIGLA_UF_RS  \\\n",
       "0                       1                 0                 0   \n",
       "1                       1                 0                 0   \n",
       "2                       1                 0                 0   \n",
       "3                       1                 0                 0   \n",
       "4                       1                 0                 0   \n",
       "...                   ...               ...               ...   \n",
       "4407231                 0                 0                 0   \n",
       "4407232                 0                 0                 0   \n",
       "4407233                 0                 0                 0   \n",
       "4407234                 0                 0                 0   \n",
       "4407235                 0                 0                 0   \n",
       "\n",
       "         nasc_SIGLA_UF_SC  nasc_SIGLA_UF_SE  nasc_SIGLA_UF_SP  \\\n",
       "0                       0                 0                 0   \n",
       "1                       0                 0                 0   \n",
       "2                       0                 0                 0   \n",
       "3                       0                 0                 0   \n",
       "4                       0                 0                 0   \n",
       "...                   ...               ...               ...   \n",
       "4407231                 0                 0                 0   \n",
       "4407232                 0                 0                 0   \n",
       "4407233                 0                 0                 0   \n",
       "4407234                 0                 0                 0   \n",
       "4407235                 0                 0                 0   \n",
       "\n",
       "         nasc_SIGLA_UF_TO  def_parto_prematuro_Prematuro  \\\n",
       "0                       0                              0   \n",
       "1                       0                              0   \n",
       "2                       0                              0   \n",
       "3                       0                              0   \n",
       "4                       0                              0   \n",
       "...                   ...                            ...   \n",
       "4407231                 0                              0   \n",
       "4407232                 0                              0   \n",
       "4407233                 0                              1   \n",
       "4407234                 0                              0   \n",
       "4407235                 0                              0   \n",
       "\n",
       "         def_parto_prematuro_Termo  \n",
       "0                                1  \n",
       "1                                1  \n",
       "2                                1  \n",
       "3                                1  \n",
       "4                                1  \n",
       "...                            ...  \n",
       "4407231                          1  \n",
       "4407232                          1  \n",
       "4407233                          0  \n",
       "4407234                          1  \n",
       "4407235                          1  \n",
       "\n",
       "[4407236 rows x 109 columns]"
      ]
     },
     "execution_count": 28,
     "metadata": {},
     "output_type": "execute_result"
    }
   ],
   "source": [
    "# Variáveis Explicativas\n",
    "dataset.drop('mf', axis = 1) "
   ]
  },
  {
   "cell_type": "code",
   "execution_count": 29,
   "metadata": {},
   "outputs": [
    {
     "data": {
      "text/plain": [
       "0          0\n",
       "1          0\n",
       "2          0\n",
       "3          0\n",
       "4          0\n",
       "          ..\n",
       "4407231    0\n",
       "4407232    0\n",
       "4407233    0\n",
       "4407234    0\n",
       "4407235    0\n",
       "Name: mf, Length: 4407236, dtype: int32"
      ]
     },
     "execution_count": 29,
     "metadata": {},
     "output_type": "execute_result"
    }
   ],
   "source": [
    "# Variável Target\n",
    "dataset['mf']"
   ]
  },
  {
   "cell_type": "code",
   "execution_count": 30,
   "metadata": {},
   "outputs": [],
   "source": [
    "# Importa a função\n",
    "# Se necessário, instale o pacote: \n",
    "# pip install imblearn\n",
    "from imblearn.under_sampling import RandomUnderSampler\n",
    "\n",
    "# Separa X e y\n",
    "X = dataset.drop('mf', axis = 1)   \n",
    "y = dataset['mf'] \n",
    "\n",
    "# Cria o balanceador:\n",
    "rus = RandomUnderSampler(random_state=0)\n",
    "\n",
    "# Aplica o balanceador\n",
    "X_res, y_res = rus.fit_resample(X, y)"
   ]
  },
  {
   "cell_type": "code",
   "execution_count": 31,
   "metadata": {},
   "outputs": [
    {
     "data": {
      "image/png": "[encoded data removed]",
      "text/plain": [
       "<Figure size 1152x288 with 1 Axes>"
      ]
     },
     "metadata": {
      "needs_background": "light"
     },
     "output_type": "display_data"
    }
   ],
   "source": [
    "# Plot\n",
    "sns.countplot(y_res, palette = \"OrRd\")\n",
    "plt.box(False)\n",
    "plt.xlabel('Não (0) / Sim (1)', fontsize = 11)\n",
    "plt.ylabel('Total Pacientes', fontsize = 11)\n",
    "plt.title('Contagem de Classes\\n')\n",
    "plt.show()"
   ]
  },
  {
   "cell_type": "code",
   "execution_count": 32,
   "metadata": {},
   "outputs": [],
   "source": [
    "# Split em X e Y\n",
    "X = X_res\n",
    "Y = y_res"
   ]
  },
  {
   "cell_type": "code",
   "execution_count": 33,
   "metadata": {},
   "outputs": [
    {
     "data": {
      "text/plain": [
       "(71910, 109)"
      ]
     },
     "execution_count": 33,
     "metadata": {},
     "output_type": "execute_result"
    }
   ],
   "source": [
    "X.shape"
   ]
  },
  {
   "cell_type": "code",
   "execution_count": 34,
   "metadata": {},
   "outputs": [
    {
     "data": {
      "text/plain": [
       "(71910,)"
      ]
     },
     "execution_count": 34,
     "metadata": {},
     "output_type": "execute_result"
    }
   ],
   "source": [
    "Y.shape"
   ]
  },
  {
   "cell_type": "code",
   "execution_count": 35,
   "metadata": {},
   "outputs": [],
   "source": [
    "# Divisão dos dados em treino e teste\n",
    "from sklearn.model_selection import train_test_split\n",
    "\n",
    "test_size = 0.1\n",
    "X_treino, X_teste, Y_treino, Y_teste = train_test_split(X, Y, test_size = test_size)"
   ]
  },
  {
   "cell_type": "code",
   "execution_count": 36,
   "metadata": {},
   "outputs": [
    {
     "data": {
      "text/plain": [
       "(64719, 109)"
      ]
     },
     "execution_count": 36,
     "metadata": {},
     "output_type": "execute_result"
    }
   ],
   "source": [
    "X_treino.shape"
   ]
  },
  {
   "cell_type": "code",
   "execution_count": 37,
   "metadata": {},
   "outputs": [
    {
     "data": {
      "text/plain": [
       "(64719,)"
      ]
     },
     "execution_count": 37,
     "metadata": {},
     "output_type": "execute_result"
    }
   ],
   "source": [
    "Y_treino.shape"
   ]
  },
  {
   "cell_type": "code",
   "execution_count": 38,
   "metadata": {},
   "outputs": [
    {
     "data": {
      "text/plain": [
       "(7191, 109)"
      ]
     },
     "execution_count": 38,
     "metadata": {},
     "output_type": "execute_result"
    }
   ],
   "source": [
    "X_teste.shape"
   ]
  },
  {
   "cell_type": "code",
   "execution_count": 39,
   "metadata": {},
   "outputs": [
    {
     "data": {
      "text/plain": [
       "(7191,)"
      ]
     },
     "execution_count": 39,
     "metadata": {},
     "output_type": "execute_result"
    }
   ],
   "source": [
    "Y_teste.shape"
   ]
  },
  {
   "cell_type": "markdown",
   "metadata": {},
   "source": [
    "## Construção dos Modelos Preditivos"
   ]
  },
  {
   "cell_type": "code",
   "execution_count": 41,
   "metadata": {},
   "outputs": [],
   "source": [
    "# Imports\n",
    "import keras\n",
    "import tensorflow\n",
    "import sklearn\n",
    "#import scikitplot as skplt\n",
    "import matplotlib.pyplot as plt\n",
    "from sklearn.linear_model import LogisticRegression\n",
    "from sklearn.ensemble import RandomForestClassifier\n",
    "from sklearn.naive_bayes import GaussianNB, BernoulliNB, MultinomialNB\n",
    "from sklearn.neighbors import KNeighborsClassifier\n",
    "from keras.models import Sequential\n",
    "from keras.layers import Dense, Dropout\n",
    "from sklearn.model_selection import cross_validate\n",
    "from sklearn.metrics import confusion_matrix, roc_auc_score\n",
    "from sklearn.metrics import classification_report, matthews_corrcoef, accuracy_score\n",
    "from sklearn.metrics import roc_curve, auc"
   ]
  },
  {
   "cell_type": "code",
   "execution_count": 42,
   "metadata": {},
   "outputs": [
    {
     "data": {
      "text/plain": [
       "'2.4.1'"
      ]
     },
     "execution_count": 42,
     "metadata": {},
     "output_type": "execute_result"
    }
   ],
   "source": [
    "tensorflow.__version__"
   ]
  },
  {
   "cell_type": "code",
   "execution_count": 43,
   "metadata": {},
   "outputs": [
    {
     "data": {
      "text/plain": [
       "'2.4.3'"
      ]
     },
     "execution_count": 43,
     "metadata": {},
     "output_type": "execute_result"
    }
   ],
   "source": [
    "keras.__version__"
   ]
  },
  {
   "cell_type": "code",
   "execution_count": 44,
   "metadata": {},
   "outputs": [
    {
     "data": {
      "text/plain": [
       "'0.24.2'"
      ]
     },
     "execution_count": 44,
     "metadata": {},
     "output_type": "execute_result"
    }
   ],
   "source": [
    "sklearn.__version__"
   ]
  },
  {
   "cell_type": "code",
   "execution_count": null,
   "metadata": {},
   "outputs": [],
   "source": []
  },
  {
   "cell_type": "code",
   "execution_count": null,
   "metadata": {},
   "outputs": [],
   "source": []
  },
  {
   "cell_type": "markdown",
   "metadata": {},
   "source": [
    "#### Versão 1 - Regressão Logística"
   ]
  },
  {
   "cell_type": "code",
   "execution_count": 45,
   "metadata": {},
   "outputs": [
    {
     "data": {
      "text/plain": [
       "Index([], dtype='object')"
      ]
     },
     "execution_count": 45,
     "metadata": {},
     "output_type": "execute_result"
    }
   ],
   "source": [
    "dataset.select_dtypes(include='object').columns"
   ]
  },
  {
   "cell_type": "markdown",
   "metadata": {},
   "source": [
    "https://scikit-learn.org/stable/modules/generated/sklearn.linear_model.LogisticRegression.html"
   ]
  },
  {
   "cell_type": "code",
   "execution_count": 46,
   "metadata": {},
   "outputs": [
    {
     "name": "stderr",
     "output_type": "stream",
     "text": [
      "C:\\Users\\igor_\\anaconda3\\lib\\site-packages\\sklearn\\linear_model\\_logistic.py:763: ConvergenceWarning: lbfgs failed to converge (status=1):\n",
      "STOP: TOTAL NO. of ITERATIONS REACHED LIMIT.\n",
      "\n",
      "Increase the number of iterations (max_iter) or scale the data as shown in:\n",
      "    https://scikit-learn.org/stable/modules/preprocessing.html\n",
      "Please also refer to the documentation for alternative solver options:\n",
      "    https://scikit-learn.org/stable/modules/linear_model.html#logistic-regression\n",
      "  n_iter_i = _check_optimize_result(\n"
     ]
    },
    {
     "data": {
      "text/plain": [
       "LogisticRegression(max_iter=600)"
      ]
     },
     "execution_count": 46,
     "metadata": {},
     "output_type": "execute_result"
    }
   ],
   "source": [
    "# Cria e treina o modelo\n",
    "modelo_v1 = LogisticRegression(max_iter = 600)\n",
    "modelo_v1.fit(X_treino, Y_treino)"
   ]
  },
  {
   "cell_type": "code",
   "execution_count": 47,
   "metadata": {},
   "outputs": [
    {
     "data": {
      "text/plain": [
       "array([[0.37905236, 0.62094764],\n",
       "       [0.44123044, 0.55876956],\n",
       "       [0.50694017, 0.49305983],\n",
       "       ...,\n",
       "       [0.49337033, 0.50662967],\n",
       "       [0.49941959, 0.50058041],\n",
       "       [0.77427771, 0.22572229]])"
      ]
     },
     "execution_count": 47,
     "metadata": {},
     "output_type": "execute_result"
    }
   ],
   "source": [
    "# Previsões (probabilidades)\n",
    "previsoes_v1 = modelo_v1.predict_proba(X_teste)\n",
    "previsoes_v1"
   ]
  },
  {
   "cell_type": "code",
   "execution_count": 48,
   "metadata": {},
   "outputs": [
    {
     "data": {
      "text/plain": [
       "array([1, 1, 0, ..., 1, 1, 0])"
      ]
     },
     "execution_count": 48,
     "metadata": {},
     "output_type": "execute_result"
    }
   ],
   "source": [
    "# Previsões (classes)\n",
    "previsoes_v1 = modelo_v1.predict(X_teste)\n",
    "previsoes_v1"
   ]
  },
  {
   "cell_type": "code",
   "execution_count": 49,
   "metadata": {},
   "outputs": [
    {
     "name": "stdout",
     "output_type": "stream",
     "text": [
      "[[2585 1083]\n",
      " [1408 2115]]\n"
     ]
    }
   ],
   "source": [
    "matriz_v1 = confusion_matrix(Y_teste, previsoes_v1)\n",
    "print(matriz_v1)"
   ]
  },
  {
   "cell_type": "code",
   "execution_count": 50,
   "metadata": {},
   "outputs": [
    {
     "name": "stdout",
     "output_type": "stream",
     "text": [
      "              precision    recall  f1-score   support\n",
      "\n",
      "     Não (0)       0.65      0.70      0.67      3668\n",
      "     Sim (1)       0.66      0.60      0.63      3523\n",
      "\n",
      "    accuracy                           0.65      7191\n",
      "   macro avg       0.65      0.65      0.65      7191\n",
      "weighted avg       0.65      0.65      0.65      7191\n",
      "\n"
     ]
    }
   ],
   "source": [
    "# Relatório de classificação\n",
    "classe_names = ['Não (0)', 'Sim (1)']\n",
    "report = classification_report(Y_teste, previsoes_v1, target_names = classe_names)\n",
    "print(report)"
   ]
  },
  {
   "cell_type": "code",
   "execution_count": 51,
   "metadata": {},
   "outputs": [
    {
     "name": "stdout",
     "output_type": "stream",
     "text": [
      "0.6525421741718465\n"
     ]
    }
   ],
   "source": [
    "# Score AUC\n",
    "print(roc_auc_score(Y_teste, previsoes_v1))"
   ]
  },
  {
   "cell_type": "code",
   "execution_count": 52,
   "metadata": {},
   "outputs": [],
   "source": [
    "# Extrai as taxas de verdadeiros e falsos positivos\n",
    "taxa_falso_positivo, taxa_verdadeiro_positivo, thresholds = roc_curve(Y_teste, previsoes_v1)"
   ]
  },
  {
   "cell_type": "code",
   "execution_count": 53,
   "metadata": {},
   "outputs": [
    {
     "data": {
      "text/plain": [
       "array([0.        , 0.29525627, 1.        ])"
      ]
     },
     "execution_count": 53,
     "metadata": {},
     "output_type": "execute_result"
    }
   ],
   "source": [
    "taxa_falso_positivo"
   ]
  },
  {
   "cell_type": "code",
   "execution_count": 54,
   "metadata": {},
   "outputs": [
    {
     "data": {
      "text/plain": [
       "array([0.        , 0.60034062, 1.        ])"
      ]
     },
     "execution_count": 54,
     "metadata": {},
     "output_type": "execute_result"
    }
   ],
   "source": [
    "taxa_verdadeiro_positivo"
   ]
  },
  {
   "cell_type": "code",
   "execution_count": 55,
   "metadata": {},
   "outputs": [
    {
     "data": {
      "text/plain": [
       "array([2, 1, 0])"
      ]
     },
     "execution_count": 55,
     "metadata": {},
     "output_type": "execute_result"
    }
   ],
   "source": [
    "thresholds"
   ]
  },
  {
   "cell_type": "code",
   "execution_count": 56,
   "metadata": {},
   "outputs": [
    {
     "name": "stdout",
     "output_type": "stream",
     "text": [
      "0.6525421741718465\n"
     ]
    }
   ],
   "source": [
    "# Score AUC\n",
    "print(auc(taxa_falso_positivo, taxa_verdadeiro_positivo))"
   ]
  },
  {
   "cell_type": "code",
   "execution_count": 57,
   "metadata": {},
   "outputs": [
    {
     "name": "stdout",
     "output_type": "stream",
     "text": [
      "0.6525421741718465\n"
     ]
    }
   ],
   "source": [
    "# Score AUCROC - Caso 1\n",
    "y_pred_class = modelo_v1.predict(X_teste)\n",
    "print(roc_auc_score(Y_teste, y_pred_class))"
   ]
  },
  {
   "cell_type": "code",
   "execution_count": 58,
   "metadata": {},
   "outputs": [
    {
     "name": "stdout",
     "output_type": "stream",
     "text": [
      "0.7079628773806401\n"
     ]
    }
   ],
   "source": [
    "# Score AUCROC - Caso 2\n",
    "# Por que o resultado é diferente?\n",
    "y_pred_probs = modelo_v1.predict_proba(X_teste)[:,1] # Usamos [:,1] para buscar as probabilidades da classe positiva.\n",
    "print(roc_auc_score(Y_teste, y_pred_probs))"
   ]
  },
  {
   "cell_type": "code",
   "execution_count": 59,
   "metadata": {},
   "outputs": [
    {
     "name": "stdout",
     "output_type": "stream",
     "text": [
      "Requirement already satisfied: scikit-plot in c:\\users\\igor_\\anaconda3\\lib\\site-packages (0.3.7)\n",
      "Requirement already satisfied: scipy>=0.9 in c:\\users\\igor_\\anaconda3\\lib\\site-packages (from scikit-plot) (1.5.0)\n",
      "Requirement already satisfied: matplotlib>=1.4.0 in c:\\users\\igor_\\anaconda3\\lib\\site-packages (from scikit-plot) (3.2.2)\n",
      "Requirement already satisfied: joblib>=0.10 in c:\\users\\igor_\\anaconda3\\lib\\site-packages (from scikit-plot) (0.16.0)\n",
      "Requirement already satisfied: scikit-learn>=0.18 in c:\\users\\igor_\\anaconda3\\lib\\site-packages (from scikit-plot) (0.24.2)\n",
      "Requirement already satisfied: numpy>=1.14.5 in c:\\users\\igor_\\anaconda3\\lib\\site-packages (from scipy>=0.9->scikit-plot) (1.19.5)\n",
      "Requirement already satisfied: kiwisolver>=1.0.1 in c:\\users\\igor_\\anaconda3\\lib\\site-packages (from matplotlib>=1.4.0->scikit-plot) (1.2.0)\n",
      "Requirement already satisfied: cycler>=0.10 in c:\\users\\igor_\\anaconda3\\lib\\site-packages (from matplotlib>=1.4.0->scikit-plot) (0.10.0)\n",
      "Requirement already satisfied: python-dateutil>=2.1 in c:\\users\\igor_\\anaconda3\\lib\\site-packages (from matplotlib>=1.4.0->scikit-plot) (2.8.1)\n",
      "Requirement already satisfied: pyparsing!=2.0.4,!=2.1.2,!=2.1.6,>=2.0.1 in c:\\users\\igor_\\anaconda3\\lib\\site-packages (from matplotlib>=1.4.0->scikit-plot) (2.4.7)\n",
      "Requirement already satisfied: threadpoolctl>=2.0.0 in c:\\users\\igor_\\anaconda3\\lib\\site-packages (from scikit-learn>=0.18->scikit-plot) (2.1.0)\n",
      "Requirement already satisfied: six in c:\\users\\igor_\\anaconda3\\lib\\site-packages (from cycler>=0.10->matplotlib>=1.4.0->scikit-plot) (1.15.0)\n",
      "Note: you may need to restart the kernel to use updated packages.\n"
     ]
    }
   ],
   "source": [
    "pip install scikit-plot"
   ]
  },
  {
   "cell_type": "code",
   "execution_count": 60,
   "metadata": {},
   "outputs": [],
   "source": [
    "import scikitplot as skplt"
   ]
  },
  {
   "cell_type": "code",
   "execution_count": 61,
   "metadata": {},
   "outputs": [
    {
     "data": {
      "image/png": "[encoded data removed]",
      "text/plain": [
       "<Figure size 1152x288 with 1 Axes>"
      ]
     },
     "metadata": {
      "needs_background": "light"
     },
     "output_type": "display_data"
    }
   ],
   "source": [
    "# Calcula a Curva ROC para cada classe\n",
    "y_probs_v1 = modelo_v1.predict_proba(X_teste)\n",
    "skplt.metrics.plot_roc_curve(Y_teste, y_probs_v1)\n",
    "plt.show()"
   ]
  },
  {
   "cell_type": "code",
   "execution_count": 62,
   "metadata": {},
   "outputs": [],
   "source": [
    "# Se as classes estiverem desbalanceadas, o ideal é usar a curva precision-recall \n",
    "from sklearn.metrics import precision_recall_curve\n",
    "\n",
    "y_probs = modelo_v1.predict_proba(X_teste)[:,1]\n",
    "precision, recall, thresholds = precision_recall_curve(Y_teste, y_probs)"
   ]
  },
  {
   "cell_type": "code",
   "execution_count": 63,
   "metadata": {},
   "outputs": [
    {
     "data": {
      "text/plain": [
       "array([0.49012243, 0.49005148, 0.49011968, ..., 0.5       , 0.        ,\n",
       "       1.        ])"
      ]
     },
     "execution_count": 63,
     "metadata": {},
     "output_type": "execute_result"
    }
   ],
   "source": [
    "precision"
   ]
  },
  {
   "cell_type": "code",
   "execution_count": 64,
   "metadata": {},
   "outputs": [
    {
     "data": {
      "text/plain": [
       "array([1.00000000e+00, 9.99716151e-01, 9.99716151e-01, ...,\n",
       "       2.83848992e-04, 0.00000000e+00, 0.00000000e+00])"
      ]
     },
     "execution_count": 64,
     "metadata": {},
     "output_type": "execute_result"
    }
   ],
   "source": [
    "recall"
   ]
  },
  {
   "cell_type": "code",
   "execution_count": 65,
   "metadata": {},
   "outputs": [
    {
     "data": {
      "image/png": "[encoded data removed]",
      "text/plain": [
       "<Figure size 1152x288 with 1 Axes>"
      ]
     },
     "metadata": {
      "needs_background": "light"
     },
     "output_type": "display_data"
    }
   ],
   "source": [
    "# Plot da curva precision-recall \n",
    "plt.plot(recall, precision, marker = '.', label = 'Regressão Logística')\n",
    "plt.xlabel('Recall')\n",
    "plt.ylabel('Precision')\n",
    "plt.legend()\n",
    "plt.show()"
   ]
  },
  {
   "cell_type": "markdown",
   "metadata": {},
   "source": [
    "#### Versão 2 - RandomForest"
   ]
  },
  {
   "cell_type": "markdown",
   "metadata": {},
   "source": [
    "https://scikit-learn.org/stable/modules/generated/sklearn.ensemble.RandomForestClassifier.html"
   ]
  },
  {
   "cell_type": "code",
   "execution_count": 67,
   "metadata": {},
   "outputs": [
    {
     "data": {
      "text/plain": [
       "RandomForestClassifier(n_estimators=150)"
      ]
     },
     "execution_count": 67,
     "metadata": {},
     "output_type": "execute_result"
    }
   ],
   "source": [
    "# Cria e treina o modelo\n",
    "modelo_v2 = RandomForestClassifier(n_estimators = 150)\n",
    "modelo_v2.fit(X_treino, Y_treino)"
   ]
  },
  {
   "cell_type": "code",
   "execution_count": 68,
   "metadata": {},
   "outputs": [
    {
     "name": "stdout",
     "output_type": "stream",
     "text": [
      "[[2609 1059]\n",
      " [1271 2252]]\n"
     ]
    }
   ],
   "source": [
    "# Previsões\n",
    "previsoes_v2 = modelo_v2.predict(X_teste)\n",
    "matriz_v2 = confusion_matrix(Y_teste, previsoes_v2)\n",
    "print(matriz_v2)"
   ]
  },
  {
   "cell_type": "code",
   "execution_count": 69,
   "metadata": {},
   "outputs": [
    {
     "name": "stdout",
     "output_type": "stream",
     "text": [
      "              precision    recall  f1-score   support\n",
      "\n",
      "           0       0.67      0.71      0.69      3668\n",
      "           1       0.68      0.64      0.66      3523\n",
      "\n",
      "    accuracy                           0.68      7191\n",
      "   macro avg       0.68      0.68      0.68      7191\n",
      "weighted avg       0.68      0.68      0.68      7191\n",
      "\n"
     ]
    }
   ],
   "source": [
    "# Relatório de classificação\n",
    "report = classification_report(Y_teste, previsoes_v2)\n",
    "print(report)"
   ]
  },
  {
   "cell_type": "code",
   "execution_count": 70,
   "metadata": {},
   "outputs": [
    {
     "name": "stdout",
     "output_type": "stream",
     "text": [
      "0.6752573677695505\n"
     ]
    }
   ],
   "source": [
    "# Score AUC\n",
    "print(roc_auc_score(Y_teste, previsoes_v2))"
   ]
  },
  {
   "cell_type": "code",
   "execution_count": 71,
   "metadata": {},
   "outputs": [
    {
     "data": {
      "image/png": "[encoded data removed]",
      "text/plain": [
       "<Figure size 1152x288 with 1 Axes>"
      ]
     },
     "metadata": {
      "needs_background": "light"
     },
     "output_type": "display_data"
    }
   ],
   "source": [
    "# Calcula a Curva ROC para cada classe\n",
    "y_probs_v2 = modelo_v2.predict_proba(X_teste)\n",
    "skplt.metrics.plot_roc_curve(Y_teste, y_probs_v2)\n",
    "plt.show()"
   ]
  },
  {
   "cell_type": "code",
   "execution_count": 73,
   "metadata": {},
   "outputs": [
    {
     "data": {
      "text/html": [
       "<div>\n",
       "<style scoped>\n",
       "    .dataframe tbody tr th:only-of-type {\n",
       "        vertical-align: middle;\n",
       "    }\n",
       "\n",
       "    .dataframe tbody tr th {\n",
       "        vertical-align: top;\n",
       "    }\n",
       "\n",
       "    .dataframe thead th {\n",
       "        text-align: right;\n",
       "    }\n",
       "</style>\n",
       "<table border=\"1\" class=\"dataframe\">\n",
       "  <thead>\n",
       "    <tr style=\"text-align: right;\">\n",
       "      <th></th>\n",
       "      <th>IDADEMAE</th>\n",
       "      <th>QTDFILVIVO</th>\n",
       "      <th>QTDFILMORT</th>\n",
       "      <th>ano_nasc</th>\n",
       "      <th>APGAR1</th>\n",
       "      <th>APGAR5</th>\n",
       "      <th>PESO</th>\n",
       "      <th>QTDGESTANT</th>\n",
       "      <th>CONSPRENAT</th>\n",
       "      <th>MESPRENAT</th>\n",
       "      <th>...</th>\n",
       "      <th>nasc_SIGLA_UF_RN</th>\n",
       "      <th>nasc_SIGLA_UF_RO</th>\n",
       "      <th>nasc_SIGLA_UF_RR</th>\n",
       "      <th>nasc_SIGLA_UF_RS</th>\n",
       "      <th>nasc_SIGLA_UF_SC</th>\n",
       "      <th>nasc_SIGLA_UF_SE</th>\n",
       "      <th>nasc_SIGLA_UF_SP</th>\n",
       "      <th>nasc_SIGLA_UF_TO</th>\n",
       "      <th>def_parto_prematuro_Prematuro</th>\n",
       "      <th>def_parto_prematuro_Termo</th>\n",
       "    </tr>\n",
       "  </thead>\n",
       "  <tbody>\n",
       "    <tr>\n",
       "      <th>13617</th>\n",
       "      <td>20</td>\n",
       "      <td>1</td>\n",
       "      <td>0</td>\n",
       "      <td>2019</td>\n",
       "      <td>9</td>\n",
       "      <td>9</td>\n",
       "      <td>2600</td>\n",
       "      <td>1</td>\n",
       "      <td>5</td>\n",
       "      <td>3</td>\n",
       "      <td>...</td>\n",
       "      <td>0</td>\n",
       "      <td>0</td>\n",
       "      <td>0</td>\n",
       "      <td>0</td>\n",
       "      <td>0</td>\n",
       "      <td>0</td>\n",
       "      <td>1</td>\n",
       "      <td>0</td>\n",
       "      <td>0</td>\n",
       "      <td>1</td>\n",
       "    </tr>\n",
       "    <tr>\n",
       "      <th>21798</th>\n",
       "      <td>26</td>\n",
       "      <td>0</td>\n",
       "      <td>0</td>\n",
       "      <td>2019</td>\n",
       "      <td>7</td>\n",
       "      <td>9</td>\n",
       "      <td>3764</td>\n",
       "      <td>0</td>\n",
       "      <td>9</td>\n",
       "      <td>2</td>\n",
       "      <td>...</td>\n",
       "      <td>1</td>\n",
       "      <td>0</td>\n",
       "      <td>0</td>\n",
       "      <td>0</td>\n",
       "      <td>0</td>\n",
       "      <td>0</td>\n",
       "      <td>0</td>\n",
       "      <td>0</td>\n",
       "      <td>0</td>\n",
       "      <td>1</td>\n",
       "    </tr>\n",
       "    <tr>\n",
       "      <th>11901</th>\n",
       "      <td>20</td>\n",
       "      <td>0</td>\n",
       "      <td>1</td>\n",
       "      <td>2020</td>\n",
       "      <td>9</td>\n",
       "      <td>10</td>\n",
       "      <td>3500</td>\n",
       "      <td>1</td>\n",
       "      <td>10</td>\n",
       "      <td>1</td>\n",
       "      <td>...</td>\n",
       "      <td>0</td>\n",
       "      <td>0</td>\n",
       "      <td>0</td>\n",
       "      <td>0</td>\n",
       "      <td>0</td>\n",
       "      <td>0</td>\n",
       "      <td>1</td>\n",
       "      <td>0</td>\n",
       "      <td>0</td>\n",
       "      <td>1</td>\n",
       "    </tr>\n",
       "    <tr>\n",
       "      <th>71473</th>\n",
       "      <td>23</td>\n",
       "      <td>1</td>\n",
       "      <td>0</td>\n",
       "      <td>2020</td>\n",
       "      <td>9</td>\n",
       "      <td>9</td>\n",
       "      <td>3320</td>\n",
       "      <td>1</td>\n",
       "      <td>8</td>\n",
       "      <td>1</td>\n",
       "      <td>...</td>\n",
       "      <td>0</td>\n",
       "      <td>0</td>\n",
       "      <td>0</td>\n",
       "      <td>0</td>\n",
       "      <td>0</td>\n",
       "      <td>0</td>\n",
       "      <td>1</td>\n",
       "      <td>0</td>\n",
       "      <td>0</td>\n",
       "      <td>1</td>\n",
       "    </tr>\n",
       "    <tr>\n",
       "      <th>502</th>\n",
       "      <td>25</td>\n",
       "      <td>3</td>\n",
       "      <td>1</td>\n",
       "      <td>2019</td>\n",
       "      <td>7</td>\n",
       "      <td>9</td>\n",
       "      <td>2900</td>\n",
       "      <td>4</td>\n",
       "      <td>2</td>\n",
       "      <td>6</td>\n",
       "      <td>...</td>\n",
       "      <td>0</td>\n",
       "      <td>0</td>\n",
       "      <td>0</td>\n",
       "      <td>0</td>\n",
       "      <td>0</td>\n",
       "      <td>0</td>\n",
       "      <td>0</td>\n",
       "      <td>0</td>\n",
       "      <td>0</td>\n",
       "      <td>1</td>\n",
       "    </tr>\n",
       "  </tbody>\n",
       "</table>\n",
       "<p>5 rows × 109 columns</p>\n",
       "</div>"
      ],
      "text/plain": [
       "       IDADEMAE  QTDFILVIVO  QTDFILMORT  ano_nasc  APGAR1  APGAR5  PESO  \\\n",
       "13617        20           1           0      2019       9       9  2600   \n",
       "21798        26           0           0      2019       7       9  3764   \n",
       "11901        20           0           1      2020       9      10  3500   \n",
       "71473        23           1           0      2020       9       9  3320   \n",
       "502          25           3           1      2019       7       9  2900   \n",
       "\n",
       "       QTDGESTANT  CONSPRENAT  MESPRENAT  ...  nasc_SIGLA_UF_RN  \\\n",
       "13617           1           5          3  ...                 0   \n",
       "21798           0           9          2  ...                 1   \n",
       "11901           1          10          1  ...                 0   \n",
       "71473           1           8          1  ...                 0   \n",
       "502             4           2          6  ...                 0   \n",
       "\n",
       "       nasc_SIGLA_UF_RO  nasc_SIGLA_UF_RR  nasc_SIGLA_UF_RS  nasc_SIGLA_UF_SC  \\\n",
       "13617                 0                 0                 0                 0   \n",
       "21798                 0                 0                 0                 0   \n",
       "11901                 0                 0                 0                 0   \n",
       "71473                 0                 0                 0                 0   \n",
       "502                   0                 0                 0                 0   \n",
       "\n",
       "       nasc_SIGLA_UF_SE  nasc_SIGLA_UF_SP  nasc_SIGLA_UF_TO  \\\n",
       "13617                 0                 1                 0   \n",
       "21798                 0                 0                 0   \n",
       "11901                 0                 1                 0   \n",
       "71473                 0                 1                 0   \n",
       "502                   0                 0                 0   \n",
       "\n",
       "       def_parto_prematuro_Prematuro  def_parto_prematuro_Termo  \n",
       "13617                              0                          1  \n",
       "21798                              0                          1  \n",
       "11901                              0                          1  \n",
       "71473                              0                          1  \n",
       "502                                0                          1  \n",
       "\n",
       "[5 rows x 109 columns]"
      ]
     },
     "execution_count": 73,
     "metadata": {},
     "output_type": "execute_result"
    }
   ],
   "source": [
    "X_treino.head()"
   ]
  },
  {
   "cell_type": "markdown",
   "metadata": {},
   "source": [
    "#### Versão 3 - Naive Bayes"
   ]
  },
  {
   "cell_type": "markdown",
   "metadata": {},
   "source": [
    "https://scikit-learn.org/stable/modules/generated/sklearn.naive_bayes.GaussianNB.html\n",
    "\n",
    "https://scikit-learn.org/stable/modules/classes.html#module-sklearn.naive_bayes"
   ]
  },
  {
   "cell_type": "code",
   "execution_count": 74,
   "metadata": {},
   "outputs": [
    {
     "data": {
      "text/plain": [
       "GaussianNB()"
      ]
     },
     "execution_count": 74,
     "metadata": {},
     "output_type": "execute_result"
    }
   ],
   "source": [
    "# Cria e treina o modelo GaussianNB (variáveis quantitativas com distribuição normal)\n",
    "modelo_v3 = GaussianNB()\n",
    "modelo_v3.fit(X_treino, Y_treino)\n",
    "\n",
    "# Cria e treina o modelo MultinomialNB (variáveis quantitativas discretas)\n",
    "#modelo_v3 = MultinomialNB()\n",
    "#modelo_v3.fit(X_treino, Y_treino)\n",
    "\n",
    "# Cria e treina o modelo BernoulliNB (variáveis quantitativas discretas)\n",
    "#modelo_v3 = BernoulliNB()\n",
    "#modelo_v3.fit(X_treino, Y_treino)"
   ]
  },
  {
   "cell_type": "code",
   "execution_count": 75,
   "metadata": {},
   "outputs": [
    {
     "name": "stdout",
     "output_type": "stream",
     "text": [
      "[[3179  489]\n",
      " [2254 1269]]\n"
     ]
    }
   ],
   "source": [
    "# Previsões\n",
    "previsoes_v3 = modelo_v3.predict(X_teste)\n",
    "matriz_v3 = confusion_matrix(Y_teste, previsoes_v3)\n",
    "print(matriz_v3)"
   ]
  },
  {
   "cell_type": "code",
   "execution_count": 76,
   "metadata": {},
   "outputs": [
    {
     "name": "stdout",
     "output_type": "stream",
     "text": [
      "              precision    recall  f1-score   support\n",
      "\n",
      "           0       0.59      0.87      0.70      3668\n",
      "           1       0.72      0.36      0.48      3523\n",
      "\n",
      "    accuracy                           0.62      7191\n",
      "   macro avg       0.65      0.61      0.59      7191\n",
      "weighted avg       0.65      0.62      0.59      7191\n",
      "\n"
     ]
    }
   ],
   "source": [
    "# Relatório de classificação\n",
    "report = classification_report(Y_teste, previsoes_v3)\n",
    "print(report)"
   ]
  },
  {
   "cell_type": "code",
   "execution_count": 77,
   "metadata": {},
   "outputs": [
    {
     "name": "stdout",
     "output_type": "stream",
     "text": [
      "0.6134446065750818\n"
     ]
    }
   ],
   "source": [
    "# Score AUC\n",
    "print(roc_auc_score(Y_teste, previsoes_v3))"
   ]
  },
  {
   "cell_type": "code",
   "execution_count": 78,
   "metadata": {},
   "outputs": [
    {
     "data": {
      "image/png": "[encoded data removed]",
      "text/plain": [
       "<Figure size 1152x288 with 1 Axes>"
      ]
     },
     "metadata": {
      "needs_background": "light"
     },
     "output_type": "display_data"
    }
   ],
   "source": [
    "# Calcula a Curva ROC para cada classe\n",
    "y_probs_v3 = modelo_v3.predict_proba(X_teste)\n",
    "skplt.metrics.plot_roc_curve(Y_teste, y_probs_v3)\n",
    "plt.show()"
   ]
  },
  {
   "cell_type": "code",
   "execution_count": 79,
   "metadata": {},
   "outputs": [
    {
     "name": "stdout",
     "output_type": "stream",
     "text": [
      "0.263909817395049\n"
     ]
    }
   ],
   "source": [
    "# Coeficiente de Correlação Matthews\n",
    "print(matthews_corrcoef(Y_teste, previsoes_v3))"
   ]
  },
  {
   "cell_type": "markdown",
   "metadata": {},
   "source": [
    "#### Versão 4 - KNN"
   ]
  },
  {
   "cell_type": "markdown",
   "metadata": {},
   "source": [
    "https://scikit-learn.org/stable/modules/generated/sklearn.neighbors.KNeighborsClassifier.html"
   ]
  },
  {
   "cell_type": "code",
   "execution_count": 80,
   "metadata": {},
   "outputs": [
    {
     "data": {
      "text/plain": [
       "KNeighborsClassifier()"
      ]
     },
     "execution_count": 80,
     "metadata": {},
     "output_type": "execute_result"
    }
   ],
   "source": [
    "# Cria e treina o modelo\n",
    "modelo_v4 = KNeighborsClassifier()\n",
    "modelo_v4.fit(X_treino, Y_treino)"
   ]
  },
  {
   "cell_type": "code",
   "execution_count": 81,
   "metadata": {},
   "outputs": [
    {
     "name": "stdout",
     "output_type": "stream",
     "text": [
      "[[2239 1429]\n",
      " [1436 2087]]\n"
     ]
    }
   ],
   "source": [
    "# Previsões\n",
    "previsoes_v4 = modelo_v4.predict(X_teste)\n",
    "matriz_v4 = confusion_matrix(Y_teste, previsoes_v4)\n",
    "print(matriz_v4)"
   ]
  },
  {
   "cell_type": "code",
   "execution_count": 82,
   "metadata": {},
   "outputs": [
    {
     "name": "stdout",
     "output_type": "stream",
     "text": [
      "              precision    recall  f1-score   support\n",
      "\n",
      "           0       0.61      0.61      0.61      3668\n",
      "           1       0.59      0.59      0.59      3523\n",
      "\n",
      "    accuracy                           0.60      7191\n",
      "   macro avg       0.60      0.60      0.60      7191\n",
      "weighted avg       0.60      0.60      0.60      7191\n",
      "\n"
     ]
    }
   ],
   "source": [
    "# Relatório de classificação\n",
    "report = classification_report(Y_teste, previsoes_v4)\n",
    "print(report)"
   ]
  },
  {
   "cell_type": "code",
   "execution_count": 83,
   "metadata": {},
   "outputs": [
    {
     "name": "stdout",
     "output_type": "stream",
     "text": [
      "0.6014036208854665\n"
     ]
    }
   ],
   "source": [
    "# Score AUC\n",
    "print(roc_auc_score(Y_teste, previsoes_v4))"
   ]
  },
  {
   "cell_type": "code",
   "execution_count": 84,
   "metadata": {},
   "outputs": [
    {
     "data": {
      "image/png": "[encoded data removed]",
      "text/plain": [
       "<Figure size 1152x288 with 1 Axes>"
      ]
     },
     "metadata": {
      "needs_background": "light"
     },
     "output_type": "display_data"
    }
   ],
   "source": [
    "# Calcula a Curva ROC para cada classe\n",
    "y_probs_v4 = modelo_v4.predict_proba(X_teste)\n",
    "skplt.metrics.plot_roc_curve(Y_teste, y_probs_v4)\n",
    "plt.show()"
   ]
  },
  {
   "cell_type": "code",
   "execution_count": 85,
   "metadata": {},
   "outputs": [
    {
     "name": "stdout",
     "output_type": "stream",
     "text": [
      "0.20281559164529553\n"
     ]
    }
   ],
   "source": [
    "# Coeficiente de Correlação Matthews\n",
    "print(matthews_corrcoef(Y_teste, previsoes_v4))"
   ]
  },
  {
   "cell_type": "markdown",
   "metadata": {},
   "source": [
    "### Validação Cruzada"
   ]
  },
  {
   "cell_type": "markdown",
   "metadata": {},
   "source": [
    "https://scikit-learn.org/stable/modules/generated/sklearn.model_selection.cross_validate.html"
   ]
  },
  {
   "cell_type": "markdown",
   "metadata": {},
   "source": [
    "Uma vez que terminamos de treinar nosso modelo, não podemos assumir que ele funcionará bem em dados que ainda não foram vistos. Em outras palavras, não podemos ter certeza de que o modelo terá a precisão e a variação desejadas no ambiente de produção. \n",
    "\n",
    "Precisamos de algum tipo de garantia da precisão das previsões que nosso modelo está divulgando. Para isso, precisamos validar nosso modelo. Esse processo, de decidir se os resultados numéricos que quantificam as relações entre variáveis ​​são aceitáveis​​ como descrições dos dados, é conhecido como validação.\n",
    "\n",
    "A Validação Cruzada (CV - Cross Validation) é uma das técnicas usadas para testar a eficácia de modelos de aprendizado de máquina; também é um procedimento de re-amostragem usado para avaliar um modelo se tivermos dados limitados. Para executar o CV, fazemos divisões sucessivas nos dados, separando em treino e teste, mas fazendo com o que o algoritmo passe por todo conjunto de dados. As duas abordagens principais são:\n",
    "\n",
    "- Train_Test Split approach\n",
    "- K-Folds Cross Validation\n",
    "\n",
    "<img src=\"imagens/kfolds.png\" alt=\"Drawing\"/>"
   ]
  },
  {
   "cell_type": "markdown",
   "metadata": {},
   "source": [
    "#### Como Funciona o K-Fold:\n",
    "\n",
    "1- Dividimos os dados inteiros aleatoriamente em K-folds (o valor de k não deve ser muito pequeno ou muito alto; idealmente, escolhemos de 5 a 10, dependendo do tamanho dos dados). O valor mais alto de K leva a um modelo menos tendencioso (mas uma grande variância pode levar a um super ajuste), onde o valor mais baixo de K é semelhante à abordagem de divisão de teste e treino que vimos anteriormente.\n",
    "\n",
    "2- Em seguida, ajustamos o modelo usando os K-folds - 1 (K menos 1) e validamos o modelo usando a Kth fold restante. Gravamos as métriicas / erros.\n",
    "\n",
    "3- Repitimos esse processo até que cada K-fold sirva como conjunto de teste. Em seguida, calculamos a média das métricas gravadas. Essa será a métrica de desempenho final para o modelo."
   ]
  },
  {
   "cell_type": "markdown",
   "metadata": {},
   "source": [
    "https://scikit-learn.org/stable/modules/model_evaluation.html#scoring-parameter"
   ]
  },
  {
   "cell_type": "code",
   "execution_count": 86,
   "metadata": {},
   "outputs": [],
   "source": [
    "# Função para imprimir o resultado da validação cruzada\n",
    "\n",
    "# Ao realizar a validação cruzada, podemos usar todos os nossos dados, tanto para treinamento quanto para teste, \n",
    "# enquanto avaliamos nosso algoritmo de aprendizado em exemplos nunca antes vistos.\n",
    "\n",
    "# Observe que estamos usando X e Y\n",
    "\n",
    "# Função para validação cruzada com duas métricas\n",
    "def validacao_cruzada(modelo) :\n",
    "    cv_results = cross_validate(modelo, X, Y, scoring = ['accuracy', 'roc_auc'], cv = 5)\n",
    "\n",
    "    print('\\nAcurácia em Teste:', float(format(np.mean(cv_results['test_accuracy']), '.3f')))\n",
    "    print('AUC em Teste:', float(format(np.mean(cv_results['test_roc_auc']), '.3f')))\n",
    "    print()"
   ]
  },
  {
   "cell_type": "code",
   "execution_count": 87,
   "metadata": {},
   "outputs": [
    {
     "name": "stdout",
     "output_type": "stream",
     "text": [
      "\n",
      "Modelo e Parâmetros: LogisticRegression(max_iter=4000)\n",
      "\n",
      "Acurácia em Teste: 0.593\n",
      "AUC em Teste: 0.629\n",
      "\n",
      "\n",
      "Modelo e Parâmetros: RandomForestClassifier(n_estimators=150)\n",
      "\n",
      "Acurácia em Teste: 0.486\n",
      "AUC em Teste: 0.418\n",
      "\n",
      "\n",
      "Modelo e Parâmetros: GaussianNB()\n",
      "\n",
      "Acurácia em Teste: 0.564\n",
      "AUC em Teste: 0.576\n",
      "\n",
      "\n",
      "Modelo e Parâmetros: KNeighborsClassifier()\n",
      "\n",
      "Acurácia em Teste: 0.56\n",
      "AUC em Teste: 0.576\n",
      "\n",
      "Wall time: 8min 54s\n"
     ]
    }
   ],
   "source": [
    "%%time\n",
    "modelos = [LogisticRegression(max_iter = 4000), \n",
    "           RandomForestClassifier(n_estimators = 150), \n",
    "           GaussianNB(), \n",
    "           KNeighborsClassifier()]\n",
    "\n",
    "for modelo in modelos:\n",
    "    print(\"\\nModelo e Parâmetros:\", modelo)\n",
    "    validacao_cruzada(modelo)"
   ]
  },
  {
   "cell_type": "markdown",
   "metadata": {},
   "source": [
    "### Otimização de Hiperparâmetros"
   ]
  },
  {
   "cell_type": "markdown",
   "metadata": {},
   "source": [
    "https://scikit-learn.org/stable/modules/generated/sklearn.model_selection.GridSearchCV.html"
   ]
  },
  {
   "cell_type": "markdown",
   "metadata": {},
   "source": [
    "Um hiperparâmetro é um parâmetro cujo valor é definido antes do início do processo de aprendizado.\n",
    "\n",
    "Alguns exemplos de hiperparâmetros incluem penalidade na regressão logística e perda na descida do gradiente estocástico. No sklearn, os hiperparâmetros são passados como argumentos para o construtor das classes de modelo.\n",
    "\n",
    "Principais Estratégias de Otimização de Hiperparâmetros:\n",
    "\n",
    "- Pesquisa em grade (Grid Search)\n",
    "- Pesquisa aleatória (Random Search)\n"
   ]
  },
  {
   "cell_type": "code",
   "execution_count": 88,
   "metadata": {},
   "outputs": [],
   "source": [
    "# Imports\n",
    "import pandas as pd\n",
    "import numpy as np\n",
    "\n",
    "# Função para o Grid Search\n",
    "from sklearn.model_selection import GridSearchCV\n",
    "\n",
    "# Classe para a otimização de hiperparâmetros\n",
    "class OtimizaHiperparametros:\n",
    "\n",
    "    # Construtor da classe\n",
    "    def __init__(self, models, params):\n",
    "        \n",
    "        # Verfica se algum modelo não tem hiperparâmetros para otimização\n",
    "        if not set(models.keys()).issubset(set(params.keys())):\n",
    "            missing_params = list(set(models.keys()) - set(params.keys()))\n",
    "            raise ValueError(\"Alguns estimadores estão com parâmetros ausentes: %s\" % missing_params)\n",
    "            \n",
    "        # Inicia os atributos da classe\n",
    "        self.models = models\n",
    "        self.params = params\n",
    "        self.keys = models.keys()\n",
    "        self.grid_searches = {}\n",
    "\n",
    "    # Método para executar o Grid Search\n",
    "    def fit(self, X, y, cv = 3, n_jobs = 3, verbose = 1, scoring = None, refit = False):\n",
    "        \n",
    "        # Loop por cada modelo (chave)\n",
    "        for key in self.keys:\n",
    "            print(\"\\nExecutando GridSearchCV Para o Modelo %s:\" % key)\n",
    "            model = self.models[key]\n",
    "            params = self.params[key]\n",
    "            \n",
    "            # Cria o objeto Grid Search para cada modelo\n",
    "            gs = GridSearchCV(model, \n",
    "                              params, \n",
    "                              cv = cv, \n",
    "                              n_jobs = n_jobs, \n",
    "                              verbose = verbose, \n",
    "                              scoring = scoring, \n",
    "                              refit = refit, \n",
    "                              return_train_score = True)\n",
    "            \n",
    "            # Executa o Grid Search \n",
    "            gs.fit(X,y)\n",
    "            \n",
    "            # Salva o nome do modelo que foi processado\n",
    "            self.grid_searches[key] = gs    \n",
    "\n",
    "    # Método para calcular o score (métrica final)\n",
    "    def score_summary(self, sort_by = 'mean_score'):\n",
    "        \n",
    "        # Função para criar uma linha com cada resultado do Grid Search\n",
    "        def row(key, scores, params):\n",
    "            d = {\n",
    "                 'modelo': key,\n",
    "                 'min_score': min(scores),\n",
    "                 'max_score': max(scores),\n",
    "                 'mean_score': np.mean(scores),\n",
    "                 'std_score': np.std(scores),\n",
    "            }\n",
    "            return pd.Series({**params,**d})\n",
    "\n",
    "        rows = []\n",
    "        \n",
    "        # Para cada resultado, retorna o resultadoo formatado\n",
    "        for k in self.grid_searches:\n",
    "            print(k)\n",
    "            params = self.grid_searches[k].cv_results_['params']\n",
    "            scores = []\n",
    "            for i in range(self.grid_searches[k].cv):\n",
    "                key = \"split{}_test_score\".format(i)\n",
    "                r = self.grid_searches[k].cv_results_[key]        \n",
    "                scores.append(r.reshape(len(params),1))\n",
    "\n",
    "            # Junta tudo em uma única estrutura\n",
    "            all_scores = np.hstack(scores)\n",
    "            for p, s in zip(params,all_scores):\n",
    "                rows.append((row(k, s, p)))\n",
    "\n",
    "        df = pd.concat(rows, axis=1).T.sort_values([sort_by], ascending=False)\n",
    "\n",
    "        # Gera cada coluna\n",
    "        columns = ['modelo', 'min_score', 'mean_score', 'max_score', 'std_score']\n",
    "        columns = columns + [c for c in df.columns if c not in columns]\n",
    "\n",
    "        return df[columns]"
   ]
  },
  {
   "cell_type": "code",
   "execution_count": 89,
   "metadata": {},
   "outputs": [
    {
     "data": {
      "text/plain": [
       "{'LogisticRegression': LogisticRegression(),\n",
       " 'RandomForestClassifier': RandomForestClassifier(),\n",
       " 'KNeighborsClassifier': KNeighborsClassifier()}"
      ]
     },
     "execution_count": 89,
     "metadata": {},
     "output_type": "execute_result"
    }
   ],
   "source": [
    "# Lista dos modelos para otimização\n",
    "lista_modelos = {\n",
    "    'LogisticRegression': LogisticRegression(),\n",
    "    'RandomForestClassifier': RandomForestClassifier(),\n",
    "    'KNeighborsClassifier': KNeighborsClassifier()\n",
    "}\n",
    "\n",
    "lista_modelos"
   ]
  },
  {
   "cell_type": "code",
   "execution_count": 90,
   "metadata": {},
   "outputs": [
    {
     "data": {
      "text/plain": [
       "{'LogisticRegression': {'max_iter': [4000, 5000, 8000, 10000]},\n",
       " 'RandomForestClassifier': {'n_estimators': [175, 200, 225, 250]},\n",
       " 'KNeighborsClassifier': {'n_neighbors': [4, 5, 6, 7],\n",
       "  'metric': ['minkowski'],\n",
       "  'p': [1, 2, 3]}}"
      ]
     },
     "execution_count": 90,
     "metadata": {},
     "output_type": "execute_result"
    }
   ],
   "source": [
    "# Grid de parâmetros que serão testados\n",
    "grid_parametros = {\n",
    "    'LogisticRegression': { 'max_iter': [4000, 5000, 8000, 10000] },\n",
    "    'RandomForestClassifier': { 'n_estimators': [175, 200, 225, 250] },\n",
    "    'KNeighborsClassifier': { 'n_neighbors': [4, 5, 6, 7], 'metric': ['minkowski'], 'p': [1, 2, 3] }\n",
    "}\n",
    "\n",
    "grid_parametros"
   ]
  },
  {
   "cell_type": "code",
   "execution_count": 91,
   "metadata": {},
   "outputs": [],
   "source": [
    "# Cria o otimizador de parâmetros (instância da classe)\n",
    "otimizador_parametros = OtimizaHiperparametros(lista_modelos, grid_parametros)"
   ]
  },
  {
   "cell_type": "code",
   "execution_count": null,
   "metadata": {},
   "outputs": [
    {
     "name": "stdout",
     "output_type": "stream",
     "text": [
      "\n",
      "Executando GridSearchCV Para o Modelo LogisticRegression:\n",
      "Fitting 3 folds for each of 4 candidates, totalling 12 fits\n",
      "\n",
      "Executando GridSearchCV Para o Modelo RandomForestClassifier:\n",
      "Fitting 3 folds for each of 4 candidates, totalling 12 fits\n",
      "\n",
      "Executando GridSearchCV Para o Modelo KNeighborsClassifier:\n",
      "Fitting 3 folds for each of 12 candidates, totalling 36 fits\n"
     ]
    }
   ],
   "source": [
    "%%time\n",
    "\n",
    "# Executa o otimizador\n",
    "otimizador_parametros.fit(X_treino, Y_treino, scoring = 'roc_auc', n_jobs = 2)"
   ]
  },
  {
   "cell_type": "code",
   "execution_count": null,
   "metadata": {},
   "outputs": [],
   "source": [
    "# Sumário da otimização\n",
    "otimizador_parametros.score_summary(sort_by = 'max_score')"
   ]
  },
  {
   "cell_type": "markdown",
   "metadata": {},
   "source": [
    "#### Versão 5 - Deep Learning"
   ]
  },
  {
   "cell_type": "markdown",
   "metadata": {},
   "source": [
    "https://keras.io/"
   ]
  },
  {
   "cell_type": "markdown",
   "metadata": {},
   "source": [
    "<img src=\"imagens/deep.png\" alt=\"Drawing\"/>"
   ]
  },
  {
   "cell_type": "code",
   "execution_count": null,
   "metadata": {},
   "outputs": [],
   "source": [
    "X_treino.shape"
   ]
  },
  {
   "cell_type": "code",
   "execution_count": null,
   "metadata": {},
   "outputs": [],
   "source": [
    "# Construção do modelo com Keras\n",
    "# Definimos diversas camadas e aplicamos regularização com dropout para evitar o overfitting\n",
    "# http://papers.nips.cc/paper/4878-understanding-dropout.pdf\n",
    "modelo_v5 = Sequential()\n",
    "modelo_v5.add(Dense(256, input_dim = 12, activation = 'relu'))\n",
    "modelo_v5.add(Dropout(0.5))\n",
    "modelo_v5.add(Dense(256, activation = 'relu'))\n",
    "modelo_v5.add(Dropout(0.5))\n",
    "modelo_v5.add(Dense(1, activation = 'sigmoid'))\n",
    "modelo_v5.compile(loss = 'binary_crossentropy', optimizer = 'adam', metrics = ['accuracy'])"
   ]
  },
  {
   "cell_type": "code",
   "execution_count": null,
   "metadata": {},
   "outputs": [],
   "source": [
    "%%time\n",
    "\n",
    "# Treinamos o modelo\n",
    "history = modelo_v5.fit(X_treino, Y_treino, epochs = 100, batch_size = 128, verbose = 1, validation_split = 0.1)"
   ]
  },
  {
   "cell_type": "code",
   "execution_count": null,
   "metadata": {},
   "outputs": [],
   "source": [
    "# Sumário do modelo\n",
    "modelo_v5.summary()"
   ]
  },
  {
   "cell_type": "code",
   "execution_count": null,
   "metadata": {},
   "outputs": [],
   "source": [
    "# Sumário da Acurácia\n",
    "plt.figure(figsize=(7,5))\n",
    "plt.plot(history.history['accuracy'])\n",
    "plt.plot(history.history['val_accuracy'])\n",
    "plt.title('Acurácia do Modelo')\n",
    "plt.ylabel('Acurácia')\n",
    "plt.xlabel('Epoch')\n",
    "plt.legend(['Treino', 'Validação'], loc = 'upper left')\n",
    "plt.show()\n",
    "\n",
    "# Loss\n",
    "plt.figure(figsize=(7,5))\n",
    "plt.plot(history.history['loss'])\n",
    "plt.plot(history.history['val_loss'])\n",
    "plt.title('Erro do Modelo')\n",
    "plt.ylabel('Loss')\n",
    "plt.xlabel('Epoch')\n",
    "plt.legend(['Treino', 'Validação'], loc = 'upper left')\n",
    "plt.show()"
   ]
  },
  {
   "cell_type": "code",
   "execution_count": null,
   "metadata": {},
   "outputs": [],
   "source": [
    "# Previsões\n",
    "previsoes_v5 = modelo_v5.predict_classes(X_teste)\n",
    "matriz_v5 = confusion_matrix(Y_teste, previsoes_v5)\n",
    "print(matriz_v5)"
   ]
  },
  {
   "cell_type": "code",
   "execution_count": null,
   "metadata": {},
   "outputs": [],
   "source": [
    "# Relatório de Classificação\n",
    "report = classification_report(Y_teste, previsoes_v5)\n",
    "print(report)"
   ]
  },
  {
   "cell_type": "code",
   "execution_count": null,
   "metadata": {},
   "outputs": [],
   "source": [
    "# Score AUC\n",
    "print(roc_auc_score(Y_teste, previsoes_v5))"
   ]
  },
  {
   "cell_type": "code",
   "execution_count": null,
   "metadata": {},
   "outputs": [],
   "source": [
    "# Plot das métricas\n",
    "import scikitplot as skplt\n",
    "import matplotlib.pyplot as plt\n",
    "f, (ax1) = plt.subplots(1)\n",
    "\n",
    "# Calcula a Curva ROC para cada classe\n",
    "y_probs_v5 = modelo_v5.predict_proba(X_teste)\n",
    "\n",
    "# Precisamos usar esse procedimento pois o Keras apresenta apenas a probabilidade da classe prevista\n",
    "skplt.metrics.plot_roc(Y_teste, np.concatenate((1 - y_probs_v5, y_probs_v5), axis = 1), ax = ax1)\n",
    "plt.show()"
   ]
  },
  {
   "cell_type": "code",
   "execution_count": null,
   "metadata": {},
   "outputs": [],
   "source": [
    "# Coeficiente de Correlação de Matthews\n",
    "print(matthews_corrcoef(Y_teste, previsoes_v5))"
   ]
  },
  {
   "cell_type": "markdown",
   "metadata": {},
   "source": [
    "### Comparando os Modelos"
   ]
  },
  {
   "cell_type": "code",
   "execution_count": null,
   "metadata": {},
   "outputs": [],
   "source": [
    "# Comparando o Score AUC dos modelos\n",
    "\n",
    "# Cria lista vazia\n",
    "lista_auc = []\n",
    "\n",
    "# Calcula o Score AUC para cada modelo\n",
    "auc_modelo_v1 = roc_auc_score(Y_teste, previsoes_v1)\n",
    "auc_modelo_v2 = roc_auc_score(Y_teste, previsoes_v2)\n",
    "auc_modelo_v3 = roc_auc_score(Y_teste, previsoes_v3)\n",
    "auc_modelo_v4 = roc_auc_score(Y_teste, previsoes_v4)\n",
    "auc_modelo_v5 = roc_auc_score(Y_teste, previsoes_v5)\n",
    "\n",
    "# Junta os resultados em uma lista\n",
    "lista_auc = [auc_modelo_v1, auc_modelo_v2, auc_modelo_v3, auc_modelo_v4, auc_modelo_v5]"
   ]
  },
  {
   "cell_type": "code",
   "execution_count": null,
   "metadata": {},
   "outputs": [],
   "source": [
    "# Comparando o Coeficiente de Correlação de Matthews dos modelos\n",
    "\n",
    "# Cria lista vazia\n",
    "lista_mcorr = []\n",
    "\n",
    "# Calcula o Coeficiente para cada modelo\n",
    "mcorr_v1 = matthews_corrcoef(Y_teste, previsoes_v1)\n",
    "mcorr_v2 = matthews_corrcoef(Y_teste, previsoes_v2)\n",
    "mcorr_v3 = matthews_corrcoef(Y_teste, previsoes_v3)\n",
    "mcorr_v4 = matthews_corrcoef(Y_teste, previsoes_v4)\n",
    "mcorr_v5 = matthews_corrcoef(Y_teste, previsoes_v5)\n",
    "\n",
    "# Junta os resultados em uma lista\n",
    "lista_mcorr = [mcorr_v1, mcorr_v2, mcorr_v3, mcorr_v4, mcorr_v5]"
   ]
  },
  {
   "cell_type": "code",
   "execution_count": null,
   "metadata": {},
   "outputs": [],
   "source": [
    "# Comparando a Acurácia dos modelos\n",
    "\n",
    "# Cria lista vazia\n",
    "lista_acc = []\n",
    "\n",
    "# Calcula a Acurácia para cada modelo\n",
    "acc_modelo_v1 = accuracy_score(Y_teste, previsoes_v1)\n",
    "acc_modelo_v2 = accuracy_score(Y_teste, previsoes_v2)\n",
    "acc_modelo_v3 = accuracy_score(Y_teste, previsoes_v3)\n",
    "acc_modelo_v4 = accuracy_score(Y_teste, previsoes_v4)\n",
    "acc_modelo_v5 = accuracy_score(Y_teste, previsoes_v5)\n",
    "\n",
    "# Junta os resultados em uma lista\n",
    "lista_acc = [acc_modelo_v1, acc_modelo_v2, acc_modelo_v3, acc_modelo_v4, acc_modelo_v5]"
   ]
  },
  {
   "cell_type": "code",
   "execution_count": null,
   "metadata": {},
   "outputs": [],
   "source": [
    "# Concatena as 3 listas de métricas em uma única tabela\n",
    "lista_metricas = pd.DataFrame(np.column_stack([lista_auc, lista_mcorr, lista_acc]), \n",
    "                              columns = ['AUC', 'Matthews', 'Acurácia'])\n",
    "\n",
    "# Adiciona uma coluna com os nomes dos modelos\n",
    "lista_metricas['Modelo'] = ['Regressão Logística', 'RandomForest', 'Naive Bayes', 'KNN', 'Deep Learning']"
   ]
  },
  {
   "cell_type": "code",
   "execution_count": null,
   "metadata": {},
   "outputs": [],
   "source": [
    "# Lista as métricas por ordem decrescente do Score AUC\n",
    "lista_metricas.sort_values(by ='AUC', ascending = False)"
   ]
  },
  {
   "cell_type": "markdown",
   "metadata": {},
   "source": [
    "### Preparando a Versão Final do Modelo"
   ]
  },
  {
   "cell_type": "code",
   "execution_count": null,
   "metadata": {},
   "outputs": [],
   "source": [
    "# Cria e treina o modelo\n",
    "modelo_final_rf = RandomForestClassifier(n_estimators = 200)\n",
    "modelo_final_rf.fit(X_treino, Y_treino)"
   ]
  },
  {
   "cell_type": "code",
   "execution_count": null,
   "metadata": {},
   "outputs": [],
   "source": [
    "# Salvando o modelo\n",
    "import pickle\n",
    "filename = 'modelos/modelo_final.sav'\n",
    "pickle.dump(modelo_final_rf, open(filename, 'wb'))"
   ]
  },
  {
   "cell_type": "code",
   "execution_count": null,
   "metadata": {},
   "outputs": [],
   "source": [
    "# Carregando o Modelo\n",
    "classificador_pacientes = pickle.load(open(filename, 'rb'))"
   ]
  },
  {
   "cell_type": "code",
   "execution_count": null,
   "metadata": {},
   "outputs": [],
   "source": [
    "classificador_pacientes"
   ]
  },
  {
   "cell_type": "markdown",
   "metadata": {},
   "source": [
    "### Deploy do Modelo"
   ]
  },
  {
   "cell_type": "markdown",
   "metadata": {},
   "source": [
    "O deploy de um modelo de Machine Learning consiste em entregar os resultados do modelo. Isso pode ser feito manualmente, de forma automatizada, via aplicação web, gerando arquivos csv com as previsões todos os dias à noite e então aliimentando um Dashboard, etc.... Em geral esse trabalho envolve um Engenheiro de Machine Learning e equpes de desenvolvimento."
   ]
  },
  {
   "cell_type": "code",
   "execution_count": null,
   "metadata": {},
   "outputs": [],
   "source": [
    "# Os novos dados devem estar no mesmo formato usado nos dados de teste\n",
    "X_teste.head()"
   ]
  },
  {
   "cell_type": "code",
   "execution_count": null,
   "metadata": {},
   "outputs": [],
   "source": [
    "X_teste.shape"
   ]
  },
  {
   "cell_type": "code",
   "execution_count": null,
   "metadata": {},
   "outputs": [],
   "source": [
    "# Dados de um novo paciente\n",
    "novo_paciente = np.array([54,1,0,1,0,1,0,0,0,0,0,0])\n",
    "print(novo_paciente.shape)\n",
    "print(novo_paciente)"
   ]
  },
  {
   "cell_type": "code",
   "execution_count": null,
   "metadata": {},
   "outputs": [],
   "source": [
    "# Ajustando o shape dos dados para o modelo\n",
    "novo_paciente_reshaped = novo_paciente.reshape(1, -1)\n",
    "print(novo_paciente_reshaped.shape)\n",
    "print(novo_paciente_reshaped)"
   ]
  },
  {
   "cell_type": "code",
   "execution_count": null,
   "metadata": {},
   "outputs": [],
   "source": [
    "# Fazendo a previsão\n",
    "print(\"\\nO paciente será readmitido na clínica em até 30 dias após a alta?\")\n",
    "previsao = classificador_pacientes.predict(novo_paciente_reshaped)\n",
    "if previsao == 0:\n",
    "      print(\"\\nNão, o paciente não deve ser readmitido na clínica em até 30 dias após a alta.\")\n",
    "else:\n",
    "      print(\"\\nSim, o paciente deve ser readmitido na clínica em até 30 dias após a alta.\")"
   ]
  },
  {
   "cell_type": "markdown",
   "metadata": {},
   "source": [
    "# Fim"
   ]
  }
 ],
 "metadata": {
  "kernelspec": {
   "display_name": "Python 3",
   "language": "python",
   "name": "python3"
  },
  "language_info": {
   "codemirror_mode": {
    "name": "ipython",
    "version": 3
   },
   "file_extension": ".py",
   "mimetype": "text/x-python",
   "name": "python",
   "nbconvert_exporter": "python",
   "pygments_lexer": "ipython3",
   "version": "3.8.3"
  }
 },
 "nbformat": 4,
 "nbformat_minor": 2
}
